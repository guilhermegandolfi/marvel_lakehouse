{
 "cells": [
  {
   "cell_type": "markdown",
   "id": "f0126d5d-dbec-4a36-9ace-c303beb1feb2",
   "metadata": {},
   "source": [
    "### Este notebook é utilizado para o desenvolvimento do script pyspark da camada bronze"
   ]
  },
  {
   "cell_type": "code",
   "execution_count": 1,
   "id": "85147c3f-a8fd-4b1b-8951-6b52cb1f8f86",
   "metadata": {},
   "outputs": [
    {
     "name": "stdout",
     "output_type": "stream",
     "text": [
      "Defaulting to user installation because normal site-packages is not writeable\n",
      "Collecting delta-spark==2.1.1\n",
      "  Downloading delta_spark-2.1.1-py3-none-any.whl (20 kB)\n",
      "Collecting pyspark<3.4.0,>=3.3.0\n",
      "  Downloading pyspark-3.3.2.tar.gz (281.4 MB)\n",
      "     ━━━━━━━━━━━━━━━━━━━━━━━━━━━━━━━━━━━━━━━ 281.4/281.4 MB 4.9 MB/s eta 0:00:00\n",
      "  Preparing metadata (setup.py): started\n",
      "  Preparing metadata (setup.py): finished with status 'done'\n",
      "Collecting importlib-metadata>=1.0.0\n",
      "  Downloading importlib_metadata-6.4.1-py3-none-any.whl (22 kB)\n",
      "Collecting zipp>=0.5\n",
      "  Downloading zipp-3.15.0-py3-none-any.whl (6.8 kB)\n",
      "Collecting py4j==0.10.9.5\n",
      "  Downloading py4j-0.10.9.5-py2.py3-none-any.whl (199 kB)\n",
      "     ━━━━━━━━━━━━━━━━━━━━━━━━━━━━━━━━━━━━━━━ 199.7/199.7 kB 8.9 MB/s eta 0:00:00\n",
      "Building wheels for collected packages: pyspark\n",
      "  Building wheel for pyspark (setup.py): started\n",
      "  Building wheel for pyspark (setup.py): finished with status 'done'\n",
      "  Created wheel for pyspark: filename=pyspark-3.3.2-py2.py3-none-any.whl size=281824025 sha256=571e4611aef05e36948838ab7819ae42056ebb1a6dd20113c97f6f0e5f41d5c5\n",
      "  Stored in directory: /home/glue_user/.cache/pip/wheels/ad/fa/e3/0ed85d0d18ebd9e1344ffd6c1d1d0031af21eee1988ba36050\n",
      "Successfully built pyspark\n",
      "Installing collected packages: py4j, zipp, pyspark, importlib-metadata, delta-spark\n",
      "Successfully installed delta-spark-2.1.1 importlib-metadata-6.4.1 py4j-0.10.9.5 pyspark-3.3.2 zipp-3.15.0\n"
     ]
    },
    {
     "name": "stderr",
     "output_type": "stream",
     "text": [
      "\n",
      "[notice] A new release of pip available: 22.3.1 -> 23.1\n",
      "[notice] To update, run: python3 -m pip install --upgrade pip\n"
     ]
    },
    {
     "name": "stdout",
     "output_type": "stream",
     "text": [
      "Defaulting to user installation because normal site-packages is not writeable\n",
      "Requirement already satisfied: delta-spark==2.1.1 in /home/glue_user/.local/lib/python3.10/site-packages (2.1.1)\n",
      "Requirement already satisfied: importlib-metadata>=1.0.0 in /home/glue_user/.local/lib/python3.10/site-packages (from delta-spark==2.1.1) (6.4.1)\n",
      "Requirement already satisfied: pyspark<3.4.0,>=3.3.0 in /home/glue_user/.local/lib/python3.10/site-packages (from delta-spark==2.1.1) (3.3.2)\n",
      "Requirement already satisfied: zipp>=0.5 in /home/glue_user/.local/lib/python3.10/site-packages (from importlib-metadata>=1.0.0->delta-spark==2.1.1) (3.15.0)\n",
      "Requirement already satisfied: py4j==0.10.9.5 in /home/glue_user/.local/lib/python3.10/site-packages (from pyspark<3.4.0,>=3.3.0->delta-spark==2.1.1) (0.10.9.5)\n"
     ]
    },
    {
     "name": "stderr",
     "output_type": "stream",
     "text": [
      "\n",
      "[notice] A new release of pip available: 22.3.1 -> 23.1\n",
      "[notice] To update, run: python3 -m pip install --upgrade pip\n"
     ]
    }
   ],
   "source": [
    "%%sh\n",
    "pip install delta-spark==2.1.1\n",
    "pip3 install delta-spark==2.1.1"
   ]
  },
  {
   "cell_type": "code",
   "execution_count": 2,
   "id": "6ca385f3-17ed-4313-b645-5bf2e575426a",
   "metadata": {},
   "outputs": [
    {
     "name": "stdout",
     "output_type": "stream",
     "text": [
      "Starting Spark application\n"
     ]
    },
    {
     "data": {
      "text/html": [
       "<table>\n",
       "<tr><th>ID</th><th>YARN Application ID</th><th>Kind</th><th>State</th><th>Spark UI</th><th>Driver log</th><th>User</th><th>Current session?</th></tr><tr><td>0</td><td>None</td><td>pyspark</td><td>idle</td><td></td><td></td><td>None</td><td>✔</td></tr></table>"
      ],
      "text/plain": [
       "<IPython.core.display.HTML object>"
      ]
     },
     "metadata": {},
     "output_type": "display_data"
    },
    {
     "data": {
      "application/vnd.jupyter.widget-view+json": {
       "model_id": "",
       "version_major": 2,
       "version_minor": 0
      },
      "text/plain": [
       "FloatProgress(value=0.0, bar_style='info', description='Progress:', layout=Layout(height='25px', width='50%'),…"
      ]
     },
     "metadata": {},
     "output_type": "display_data"
    },
    {
     "name": "stdout",
     "output_type": "stream",
     "text": [
      "SparkSession available as 'spark'.\n"
     ]
    },
    {
     "data": {
      "application/vnd.jupyter.widget-view+json": {
       "model_id": "",
       "version_major": 2,
       "version_minor": 0
      },
      "text/plain": [
       "FloatProgress(value=0.0, bar_style='info', description='Progress:', layout=Layout(height='25px', width='50%'),…"
      ]
     },
     "metadata": {},
     "output_type": "display_data"
    }
   ],
   "source": [
    "import pyspark\n",
    "from delta import *\n",
    "\n",
    "builder = pyspark.sql.SparkSession.builder.appName(\"MyApp\") \\\n",
    "    .config(\"spark.sql.extensions\", \"io.delta.sql.DeltaSparkSessionExtension\") \\\n",
    "    .config(\"spark.sql.catalog.spark_catalog\", \"org.apache.spark.sql.delta.catalog.DeltaCatalog\")\n",
    "\n",
    "spark = configure_spark_with_delta_pip(builder).getOrCreate()"
   ]
  },
  {
   "cell_type": "code",
   "execution_count": 3,
   "id": "df1592a8-9305-4a53-b9dc-a4f257c899d7",
   "metadata": {},
   "outputs": [
    {
     "data": {
      "application/vnd.jupyter.widget-view+json": {
       "model_id": "",
       "version_major": 2,
       "version_minor": 0
      },
      "text/plain": [
       "FloatProgress(value=0.0, bar_style='info', description='Progress:', layout=Layout(height='25px', width='50%'),…"
      ]
     },
     "metadata": {},
     "output_type": "display_data"
    }
   ],
   "source": [
    "from pyspark.sql import SparkSession\n",
    "from pyspark.sql.types import *\n",
    "import json\n",
    "from pyspark.sql import types\n",
    "from delta import *\n",
    "from pyspark.sql.functions import *\n",
    "from delta.tables import *\n",
    "from pyspark.sql.functions import *\n",
    "from datetime import datetime"
   ]
  },
  {
   "cell_type": "code",
   "execution_count": 4,
   "id": "3115573a-3a16-4dc3-b5fb-9050ad4d7c82",
   "metadata": {},
   "outputs": [
    {
     "data": {
      "application/vnd.jupyter.widget-view+json": {
       "model_id": "",
       "version_major": 2,
       "version_minor": 0
      },
      "text/plain": [
       "FloatProgress(value=0.0, bar_style='info', description='Progress:', layout=Layout(height='25px', width='50%'),…"
      ]
     },
     "metadata": {},
     "output_type": "display_data"
    },
    {
     "name": "stdout",
     "output_type": "stream",
     "text": [
      "<pyspark.sql.session.SparkSession object at 0x7f7e7a0656c0>"
     ]
    }
   ],
   "source": [
    "spark"
   ]
  },
  {
   "cell_type": "markdown",
   "id": "3ab55111-cd79-447a-9a78-fb24c2fb6c92",
   "metadata": {},
   "source": [
    "### Load dos arquivos raw data local para ingestao em delta tables"
   ]
  },
  {
   "cell_type": "code",
   "execution_count": 5,
   "id": "84e24412-2e0a-426c-ac24-cdc5e0be0626",
   "metadata": {},
   "outputs": [
    {
     "name": "stdout",
     "output_type": "stream",
     "text": [
      "characters.csv\n",
      "characters_To_Comics.csv\n",
      "charcters_stats.csv\n",
      "comics.csv\n",
      "delta\n",
      "marvel_characters_info.csv\n",
      "marvel_dc_characters.csv\n",
      "marvel_dc_characters.xlsx\n",
      "superheroes_power_matrix.csv\n"
     ]
    }
   ],
   "source": [
    "%%sh\n",
    "ls ../../data_set"
   ]
  },
  {
   "cell_type": "code",
   "execution_count": 6,
   "id": "8292b79d-2539-4f35-9eba-b5bc288ece23",
   "metadata": {},
   "outputs": [
    {
     "data": {
      "application/vnd.jupyter.widget-view+json": {
       "model_id": "",
       "version_major": 2,
       "version_minor": 0
      },
      "text/plain": [
       "FloatProgress(value=0.0, bar_style='info', description='Progress:', layout=Layout(height='25px', width='50%'),…"
      ]
     },
     "metadata": {},
     "output_type": "display_data"
    }
   ],
   "source": [
    "nam_path='/home/glue_user/workspace/jupyter_workspace/data_set'\n",
    "nam_file='characters.csv'\n",
    "bol_header=True\n",
    "json_path='/home/glue_user/workspace/jupyter_workspace/src/bronze_data/schemas/characters.json'"
   ]
  },
  {
   "cell_type": "code",
   "execution_count": 7,
   "id": "8e690839-6b53-4dfb-9213-ba02cbb0f343",
   "metadata": {},
   "outputs": [
    {
     "data": {
      "application/vnd.jupyter.widget-view+json": {
       "model_id": "",
       "version_major": 2,
       "version_minor": 0
      },
      "text/plain": [
       "FloatProgress(value=0.0, bar_style='info', description='Progress:', layout=Layout(height='25px', width='50%'),…"
      ]
     },
     "metadata": {},
     "output_type": "display_data"
    }
   ],
   "source": [
    "with open(json_path,'r') as f:\n",
    "    data = json.load(f)"
   ]
  },
  {
   "cell_type": "code",
   "execution_count": 8,
   "id": "f1ce84a4-2143-4cdf-a39a-be074e3cad98",
   "metadata": {},
   "outputs": [
    {
     "data": {
      "application/vnd.jupyter.widget-view+json": {
       "model_id": "",
       "version_major": 2,
       "version_minor": 0
      },
      "text/plain": [
       "FloatProgress(value=0.0, bar_style='info', description='Progress:', layout=Layout(height='25px', width='50%'),…"
      ]
     },
     "metadata": {},
     "output_type": "display_data"
    }
   ],
   "source": [
    "schemaFromJson = StructType.fromJson(data)"
   ]
  },
  {
   "cell_type": "code",
   "execution_count": 9,
   "id": "8cde15d9-e858-4e2f-877d-f17f490f6e67",
   "metadata": {},
   "outputs": [
    {
     "data": {
      "application/vnd.jupyter.widget-view+json": {
       "model_id": "",
       "version_major": 2,
       "version_minor": 0
      },
      "text/plain": [
       "FloatProgress(value=0.0, bar_style='info', description='Progress:', layout=Layout(height='25px', width='50%'),…"
      ]
     },
     "metadata": {},
     "output_type": "display_data"
    }
   ],
   "source": [
    "df=spark.read.csv(f'{nam_path}/{nam_file}', header=True, schema=schemaFromJson)\n",
    "desc_date=datetime.now()\n",
    "desc_date=desc_date.strftime('%Y%m%d')\n",
    "df=df.withColumn('dat_load', lit(desc_date))"
   ]
  },
  {
   "cell_type": "code",
   "execution_count": 10,
   "id": "b461c584-04f5-46dd-8297-acea857f7fe1",
   "metadata": {},
   "outputs": [
    {
     "data": {
      "application/vnd.jupyter.widget-view+json": {
       "model_id": "",
       "version_major": 2,
       "version_minor": 0
      },
      "text/plain": [
       "FloatProgress(value=0.0, bar_style='info', description='Progress:', layout=Layout(height='25px', width='50%'),…"
      ]
     },
     "metadata": {},
     "output_type": "display_data"
    },
    {
     "name": "stdout",
     "output_type": "stream",
     "text": [
      "+-----------+--------------------+--------+\n",
      "|characterID|                name|dat_load|\n",
      "+-----------+--------------------+--------+\n",
      "|    1009220|     Captain America|20230418|\n",
      "|    1010740|      Winter Soldier|20230418|\n",
      "|    1009471|           Nick Fury|20230418|\n",
      "|    1009552|        S.H.I.E.L.D.|20230418|\n",
      "|    1009228|       Sharon Carter|20230418|\n",
      "|    1011109|    X-Men (Ultimate)|20230418|\n",
      "|    1010808|Hawkeye (Kate Bis...|20230418|\n",
      "|    1009515|            Punisher|20230418|\n",
      "|    1009252|          Crossbones|20230418|\n",
      "|    1009535|           Red Skull|20230418|\n",
      "+-----------+--------------------+--------+\n",
      "only showing top 10 rows"
     ]
    }
   ],
   "source": [
    "df.show(10)"
   ]
  },
  {
   "cell_type": "markdown",
   "id": "a5cf8b80-47b4-42c5-9175-89bc18adeabc",
   "metadata": {},
   "source": [
    "### Salvando arquivo no Bucket S3"
   ]
  },
  {
   "cell_type": "code",
   "execution_count": 13,
   "id": "30c70221-1fca-4018-9597-19558ac703b8",
   "metadata": {},
   "outputs": [
    {
     "data": {
      "application/vnd.jupyter.widget-view+json": {
       "model_id": "",
       "version_major": 2,
       "version_minor": 0
      },
      "text/plain": [
       "FloatProgress(value=0.0, bar_style='info', description='Progress:', layout=Layout(height='25px', width='50%'),…"
      ]
     },
     "metadata": {},
     "output_type": "display_data"
    }
   ],
   "source": [
    "nam_bucket='s3://marvel-bronze-dev'\n",
    "nam_table='characters'"
   ]
  },
  {
   "cell_type": "code",
   "execution_count": 14,
   "id": "fea83663-8e42-40cc-8b55-163728a9b12f",
   "metadata": {},
   "outputs": [
    {
     "data": {
      "application/vnd.jupyter.widget-view+json": {
       "model_id": "",
       "version_major": 2,
       "version_minor": 0
      },
      "text/plain": [
       "FloatProgress(value=0.0, bar_style='info', description='Progress:', layout=Layout(height='25px', width='50%'),…"
      ]
     },
     "metadata": {},
     "output_type": "display_data"
    }
   ],
   "source": [
    "df.write.format(\"delta\").mode(\"overwrite\").partitionBy('dat_load').save(f'{nam_bucket}/{nam_table}')"
   ]
  },
  {
   "cell_type": "markdown",
   "id": "b7d03440-82b9-49f1-9d40-d65cd5c5b1a4",
   "metadata": {},
   "source": [
    "### Verificando se existe os dados para carga de update"
   ]
  },
  {
   "cell_type": "code",
   "execution_count": 11,
   "id": "4c7d0a4a-00f1-44f0-80ef-b9faba7ca952",
   "metadata": {},
   "outputs": [
    {
     "data": {
      "application/vnd.jupyter.widget-view+json": {
       "model_id": "",
       "version_major": 2,
       "version_minor": 0
      },
      "text/plain": [
       "FloatProgress(value=0.0, bar_style='info', description='Progress:', layout=Layout(height='25px', width='50%'),…"
      ]
     },
     "metadata": {},
     "output_type": "display_data"
    }
   ],
   "source": [
    "import boto3\n",
    "\n",
    "s3 = boto3.client('s3')"
   ]
  },
  {
   "cell_type": "code",
   "execution_count": 15,
   "id": "a26104a5-1446-4082-9d44-332af072dddd",
   "metadata": {},
   "outputs": [
    {
     "data": {
      "application/vnd.jupyter.widget-view+json": {
       "model_id": "",
       "version_major": 2,
       "version_minor": 0
      },
      "text/plain": [
       "FloatProgress(value=0.0, bar_style='info', description='Progress:', layout=Layout(height='25px', width='50%'),…"
      ]
     },
     "metadata": {},
     "output_type": "display_data"
    }
   ],
   "source": [
    "response = s3.list_objects_v2(Bucket=nam_bucket.replace('s3://',''), Prefix=nam_table)"
   ]
  },
  {
   "cell_type": "code",
   "execution_count": 16,
   "id": "e7140792-13ea-4a1d-aece-5352375212e5",
   "metadata": {},
   "outputs": [
    {
     "data": {
      "application/vnd.jupyter.widget-view+json": {
       "model_id": "",
       "version_major": 2,
       "version_minor": 0
      },
      "text/plain": [
       "FloatProgress(value=0.0, bar_style='info', description='Progress:', layout=Layout(height='25px', width='50%'),…"
      ]
     },
     "metadata": {},
     "output_type": "display_data"
    },
    {
     "name": "stdout",
     "output_type": "stream",
     "text": [
      "True"
     ]
    }
   ],
   "source": [
    "response['KeyCount']>1"
   ]
  },
  {
   "cell_type": "code",
   "execution_count": 52,
   "id": "15a03993-1067-4fbe-a6a0-edb472d4cae8",
   "metadata": {},
   "outputs": [
    {
     "data": {
      "application/vnd.jupyter.widget-view+json": {
       "model_id": "",
       "version_major": 2,
       "version_minor": 0
      },
      "text/plain": [
       "FloatProgress(value=0.0, bar_style='info', description='Progress:', layout=Layout(height='25px', width='50%'),…"
      ]
     },
     "metadata": {},
     "output_type": "display_data"
    },
    {
     "name": "stdout",
     "output_type": "stream",
     "text": [
      "3"
     ]
    }
   ],
   "source": [
    "if response['KeyCount']>1:\n",
    "    \n",
    "else:\n",
    "    df.write.format(\"delta\").partitionBy('dat_load').save(f'{nam_bucket}/{nam_table}')"
   ]
  },
  {
   "cell_type": "code",
   "execution_count": 17,
   "id": "b504d001-1cc8-43b1-a478-5c1dd0dbad1e",
   "metadata": {},
   "outputs": [
    {
     "name": "stdout",
     "output_type": "stream",
     "text": [
      "/home/glue_user/workspace/jupyter_workspace/src/bronze_data\n"
     ]
    }
   ],
   "source": [
    "%%sh\n",
    "pwd"
   ]
  },
  {
   "cell_type": "code",
   "execution_count": 18,
   "id": "53eb6edb-feb5-433c-8801-de453f7ac286",
   "metadata": {},
   "outputs": [
    {
     "data": {
      "application/vnd.jupyter.widget-view+json": {
       "model_id": "",
       "version_major": 2,
       "version_minor": 0
      },
      "text/plain": [
       "FloatProgress(value=0.0, bar_style='info', description='Progress:', layout=Layout(height='25px', width='50%'),…"
      ]
     },
     "metadata": {},
     "output_type": "display_data"
    }
   ],
   "source": [
    "table = DeltaTable.forPath(spark, f'{nam_bucket}/{nam_table}')"
   ]
  },
  {
   "cell_type": "code",
   "execution_count": 19,
   "id": "03d63927-cd25-4450-a3fe-c4f71e75ebe4",
   "metadata": {},
   "outputs": [
    {
     "data": {
      "application/vnd.jupyter.widget-view+json": {
       "model_id": "",
       "version_major": 2,
       "version_minor": 0
      },
      "text/plain": [
       "FloatProgress(value=0.0, bar_style='info', description='Progress:', layout=Layout(height='25px', width='50%'),…"
      ]
     },
     "metadata": {},
     "output_type": "display_data"
    },
    {
     "name": "stderr",
     "output_type": "stream",
     "text": [
      "An error was encountered:\n",
      "'DeltaTable' object has no attribute 'show'\n",
      "Traceback (most recent call last):\n",
      "AttributeError: 'DeltaTable' object has no attribute 'show'\n",
      "\n"
     ]
    }
   ],
   "source": [
    "table.show()"
   ]
  },
  {
   "cell_type": "code",
   "execution_count": 20,
   "id": "6fe3b761-4543-44c4-b109-55d78d8d5562",
   "metadata": {},
   "outputs": [
    {
     "data": {
      "application/vnd.jupyter.widget-view+json": {
       "model_id": "",
       "version_major": 2,
       "version_minor": 0
      },
      "text/plain": [
       "FloatProgress(value=0.0, bar_style='info', description='Progress:', layout=Layout(height='25px', width='50%'),…"
      ]
     },
     "metadata": {},
     "output_type": "display_data"
    }
   ],
   "source": [
    "df = table.toDF()"
   ]
  },
  {
   "cell_type": "code",
   "execution_count": 21,
   "id": "54dc3f7d-7162-4421-9b42-dc1426463e75",
   "metadata": {},
   "outputs": [
    {
     "data": {
      "application/vnd.jupyter.widget-view+json": {
       "model_id": "",
       "version_major": 2,
       "version_minor": 0
      },
      "text/plain": [
       "FloatProgress(value=0.0, bar_style='info', description='Progress:', layout=Layout(height='25px', width='50%'),…"
      ]
     },
     "metadata": {},
     "output_type": "display_data"
    },
    {
     "name": "stdout",
     "output_type": "stream",
     "text": [
      "+-----------+--------------------+--------+\n",
      "|characterID|                name|dat_load|\n",
      "+-----------+--------------------+--------+\n",
      "|    1009220|     Captain America|20230418|\n",
      "|    1010740|      Winter Soldier|20230418|\n",
      "|    1009471|           Nick Fury|20230418|\n",
      "|    1009552|        S.H.I.E.L.D.|20230418|\n",
      "|    1009228|       Sharon Carter|20230418|\n",
      "|    1011109|    X-Men (Ultimate)|20230418|\n",
      "|    1010808|Hawkeye (Kate Bis...|20230418|\n",
      "|    1009515|            Punisher|20230418|\n",
      "|    1009252|          Crossbones|20230418|\n",
      "|    1009535|           Red Skull|20230418|\n",
      "+-----------+--------------------+--------+\n",
      "only showing top 10 rows"
     ]
    }
   ],
   "source": [
    "df.show(10)"
   ]
  },
  {
   "cell_type": "code",
   "execution_count": 22,
   "id": "7bc23788-8c34-4c9c-aa22-8eadaad79d81",
   "metadata": {},
   "outputs": [
    {
     "data": {
      "application/vnd.jupyter.widget-view+json": {
       "model_id": "",
       "version_major": 2,
       "version_minor": 0
      },
      "text/plain": [
       "FloatProgress(value=0.0, bar_style='info', description='Progress:', layout=Layout(height='25px', width='50%'),…"
      ]
     },
     "metadata": {},
     "output_type": "display_data"
    }
   ],
   "source": [
    "df = spark.read.format(\"delta\").load(f'{nam_bucket}/{nam_table}')"
   ]
  },
  {
   "cell_type": "code",
   "execution_count": 23,
   "id": "9d147cc0-f72a-4e8e-9e36-3202603690ea",
   "metadata": {},
   "outputs": [
    {
     "data": {
      "application/vnd.jupyter.widget-view+json": {
       "model_id": "",
       "version_major": 2,
       "version_minor": 0
      },
      "text/plain": [
       "FloatProgress(value=0.0, bar_style='info', description='Progress:', layout=Layout(height='25px', width='50%'),…"
      ]
     },
     "metadata": {},
     "output_type": "display_data"
    },
    {
     "name": "stdout",
     "output_type": "stream",
     "text": [
      "+-----------+--------------------+--------+\n",
      "|characterID|                name|dat_load|\n",
      "+-----------+--------------------+--------+\n",
      "|    1009220|     Captain America|20230418|\n",
      "|    1010740|      Winter Soldier|20230418|\n",
      "|    1009471|           Nick Fury|20230418|\n",
      "|    1009552|        S.H.I.E.L.D.|20230418|\n",
      "|    1009228|       Sharon Carter|20230418|\n",
      "|    1011109|    X-Men (Ultimate)|20230418|\n",
      "|    1010808|Hawkeye (Kate Bis...|20230418|\n",
      "|    1009515|            Punisher|20230418|\n",
      "|    1009252|          Crossbones|20230418|\n",
      "|    1009535|           Red Skull|20230418|\n",
      "+-----------+--------------------+--------+\n",
      "only showing top 10 rows"
     ]
    }
   ],
   "source": [
    "df.show(10)"
   ]
  },
  {
   "cell_type": "code",
   "execution_count": 33,
   "id": "923eb767-fa7a-4d11-9920-5c557c55496d",
   "metadata": {},
   "outputs": [
    {
     "data": {
      "application/vnd.jupyter.widget-view+json": {
       "model_id": "",
       "version_major": 2,
       "version_minor": 0
      },
      "text/plain": [
       "FloatProgress(value=0.0, bar_style='info', description='Progress:', layout=Layout(height='25px', width='50%'),…"
      ]
     },
     "metadata": {},
     "output_type": "display_data"
    },
    {
     "name": "stderr",
     "output_type": "stream",
     "text": [
      "An error was encountered:\n",
      "invalid syntax (<stdin>, line 1)\n",
      "  File \"<stdin>\", line 1\n",
      "    files = spark.format('delta').sparkContext.(f's3a://{bucket_name}/{file_name}')\n",
      "                                               ^\n",
      "SyntaxError: invalid syntax\n",
      "\n"
     ]
    }
   ],
   "source": [
    "    files = spark.format('delta').sparkContext.(f's3a://{bucket_name}/{file_name}')\n",
    "    if files.isEmpty():\n",
    "        print(f'O arquivo {file_name} não existe no bucket {bucket_name}.')"
   ]
  },
  {
   "cell_type": "code",
   "execution_count": null,
   "id": "56b730e0-d849-401e-bf9e-071f88766d95",
   "metadata": {},
   "outputs": [],
   "source": []
  }
 ],
 "metadata": {
  "kernelspec": {
   "display_name": "PySpark",
   "language": "python",
   "name": "pysparkkernel"
  },
  "language_info": {
   "codemirror_mode": {
    "name": "python",
    "version": 3
   },
   "file_extension": ".py",
   "mimetype": "text/x-python",
   "name": "pyspark",
   "pygments_lexer": "python3"
  }
 },
 "nbformat": 4,
 "nbformat_minor": 5
}
