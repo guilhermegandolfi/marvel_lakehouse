{
 "cells": [
  {
   "cell_type": "markdown",
   "id": "4c43d8ff-d284-47ac-93e0-e511ddbc0fd5",
   "metadata": {},
   "source": [
    "### Este notebook é utilizado para o desenvolvimento do script pyspark da camada bronze"
   ]
  },
  {
   "cell_type": "code",
   "execution_count": 2,
   "id": "ab36f15a-0b56-45f7-89e4-67e96e10023e",
   "metadata": {},
   "outputs": [
    {
     "data": {
      "text/html": [
       "Current session configs: <tt>{'conf': {'spark.jars.packages': 'io.delta:delta-core_2.12:1.0.0', 'spark.sql.extensions': 'io.delta.sql.DeltaSparkSessionExtension', 'spark.sql.catalog.spark_catalog': 'org.apache.spark.sql.delta.catalog.DeltaCatalog', '--datalake-formats': 'delta'}, 'kind': 'pyspark'}</tt><br>"
      ],
      "text/plain": [
       "<IPython.core.display.HTML object>"
      ]
     },
     "metadata": {},
     "output_type": "display_data"
    },
    {
     "data": {
      "text/html": [
       "No active sessions."
      ],
      "text/plain": [
       "<IPython.core.display.HTML object>"
      ]
     },
     "metadata": {},
     "output_type": "display_data"
    }
   ],
   "source": [
    "%%configure -f\n",
    "{\n",
    "    \"conf\": {\n",
    "        \"spark.jars.packages\": \"io.delta:delta-core_2.12:1.0.0\",\n",
    "        \"spark.sql.extensions\":\"io.delta.sql.DeltaSparkSessionExtension\",\n",
    "        \"spark.sql.catalog.spark_catalog\":\"org.apache.spark.sql.delta.catalog.DeltaCatalog\",\n",
    "        \"--datalake-formats\": \"delta\"\n",
    "    }\n",
    "}"
   ]
  },
  {
   "cell_type": "code",
   "execution_count": 3,
   "id": "942306af-b9b9-4a06-b9f0-a4549fbd963a",
   "metadata": {
    "vscode": {
     "languageId": "python"
    }
   },
   "outputs": [
    {
     "name": "stdout",
     "output_type": "stream",
     "text": [
      "Starting Spark application\n"
     ]
    },
    {
     "data": {
      "text/html": [
       "<table>\n",
       "<tr><th>ID</th><th>YARN Application ID</th><th>Kind</th><th>State</th><th>Spark UI</th><th>Driver log</th><th>User</th><th>Current session?</th></tr><tr><td>1</td><td>None</td><td>pyspark</td><td>idle</td><td></td><td></td><td>None</td><td>✔</td></tr></table>"
      ],
      "text/plain": [
       "<IPython.core.display.HTML object>"
      ]
     },
     "metadata": {},
     "output_type": "display_data"
    },
    {
     "data": {
      "application/vnd.jupyter.widget-view+json": {
       "model_id": "",
       "version_major": 2,
       "version_minor": 0
      },
      "text/plain": [
       "FloatProgress(value=0.0, bar_style='info', description='Progress:', layout=Layout(height='25px', width='50%'),…"
      ]
     },
     "metadata": {},
     "output_type": "display_data"
    },
    {
     "name": "stdout",
     "output_type": "stream",
     "text": [
      "SparkSession available as 'spark'.\n"
     ]
    },
    {
     "data": {
      "application/vnd.jupyter.widget-view+json": {
       "model_id": "",
       "version_major": 2,
       "version_minor": 0
      },
      "text/plain": [
       "FloatProgress(value=0.0, bar_style='info', description='Progress:', layout=Layout(height='25px', width='50%'),…"
      ]
     },
     "metadata": {},
     "output_type": "display_data"
    }
   ],
   "source": [
    "from pyspark.sql import SparkSession\n",
    "from pyspark.sql.types import *\n",
    "import json\n",
    "from pyspark.sql import types\n",
    "from delta import *\n",
    "from pyspark.sql.functions import *\n",
    "from delta.tables import *\n",
    "from pyspark.sql.functions import *\n",
    "from datetime import datetime"
   ]
  },
  {
   "cell_type": "code",
   "execution_count": 4,
   "id": "7ae43c43-1157-4b59-9581-8f4ba5d7b691",
   "metadata": {
    "vscode": {
     "languageId": "python"
    }
   },
   "outputs": [
    {
     "data": {
      "application/vnd.jupyter.widget-view+json": {
       "model_id": "",
       "version_major": 2,
       "version_minor": 0
      },
      "text/plain": [
       "FloatProgress(value=0.0, bar_style='info', description='Progress:', layout=Layout(height='25px', width='50%'),…"
      ]
     },
     "metadata": {},
     "output_type": "display_data"
    }
   ],
   "source": [
    "spark = SparkSession.builder.appName(\"MyApp\") \\\n",
    "    .config(\"spark.sql.extensions\", \"io.delta.sql.DeltaSparkSessionExtension\") \\\n",
    "    .config(\"spark.sql.catalog.spark_catalog\", \"org.apache.spark.sql.delta.catalog.DeltaCatalog\").getOrCreate()"
   ]
  },
  {
   "cell_type": "code",
   "execution_count": 5,
   "id": "2fd064da-eaef-40d9-9677-90de8c0abb27",
   "metadata": {
    "vscode": {
     "languageId": "python"
    }
   },
   "outputs": [
    {
     "data": {
      "application/vnd.jupyter.widget-view+json": {
       "model_id": "",
       "version_major": 2,
       "version_minor": 0
      },
      "text/plain": [
       "FloatProgress(value=0.0, bar_style='info', description='Progress:', layout=Layout(height='25px', width='50%'),…"
      ]
     },
     "metadata": {},
     "output_type": "display_data"
    },
    {
     "name": "stdout",
     "output_type": "stream",
     "text": [
      "<pyspark.sql.session.SparkSession object at 0x7fbc7d39cb20>"
     ]
    }
   ],
   "source": [
    "spark"
   ]
  },
  {
   "cell_type": "markdown",
   "id": "db2f8071-0d42-4581-9422-a1ed98f9580b",
   "metadata": {},
   "source": [
    "### Load dos arquivos raw data local para ingestao em delta tables"
   ]
  },
  {
   "cell_type": "code",
   "execution_count": 6,
   "id": "12d7f3cd-bb79-4c21-802c-c8c68c0475ec",
   "metadata": {
    "vscode": {
     "languageId": "python"
    }
   },
   "outputs": [
    {
     "name": "stdout",
     "output_type": "stream",
     "text": [
      "characters.csv\n",
      "characters_To_Comics.csv\n",
      "charcters_stats.csv\n",
      "comics.csv\n",
      "delta\n",
      "marvel_characters_info.csv\n",
      "marvel_dc_characters.csv\n",
      "marvel_dc_characters.xlsx\n",
      "superheroes_power_matrix.csv\n"
     ]
    }
   ],
   "source": [
    "%%sh\n",
    "ls ../../data_set"
   ]
  },
  {
   "cell_type": "code",
   "execution_count": 7,
   "id": "5f49a30c-1a51-4356-ab7d-3cea888c9518",
   "metadata": {},
   "outputs": [
    {
     "name": "stdout",
     "output_type": "stream",
     "text": [
      "schemas/characters.json\n"
     ]
    }
   ],
   "source": [
    "%%sh\n",
    "ls schemas/characters.json"
   ]
  },
  {
   "cell_type": "code",
   "execution_count": 8,
   "id": "3a0a982b-db4f-420d-8ef1-f60a797d4d2c",
   "metadata": {},
   "outputs": [
    {
     "name": "stdout",
     "output_type": "stream",
     "text": [
      "/home/glue_user/workspace/jupyter_workspace/src/bronze_data\n"
     ]
    }
   ],
   "source": [
    "%%sh\n",
    "pwd"
   ]
  },
  {
   "cell_type": "markdown",
   "id": "8fba5e6b-c335-4c64-ab91-6ef394a73d46",
   "metadata": {},
   "source": [
    "### Load Characters"
   ]
  },
  {
   "cell_type": "code",
   "execution_count": 9,
   "id": "df468664-7b81-4e7a-a6f3-1cb6d2704c63",
   "metadata": {
    "vscode": {
     "languageId": "python"
    }
   },
   "outputs": [
    {
     "data": {
      "application/vnd.jupyter.widget-view+json": {
       "model_id": "",
       "version_major": 2,
       "version_minor": 0
      },
      "text/plain": [
       "FloatProgress(value=0.0, bar_style='info', description='Progress:', layout=Layout(height='25px', width='50%'),…"
      ]
     },
     "metadata": {},
     "output_type": "display_data"
    }
   ],
   "source": [
    "nam_path='/home/glue_user/workspace/jupyter_workspace/data_set'\n",
    "nam_file='characters.csv'\n",
    "bol_header=True\n",
    "json_path='/home/glue_user/workspace/jupyter_workspace/src/bronze_data/schemas/characters.json'"
   ]
  },
  {
   "cell_type": "code",
   "execution_count": 10,
   "id": "4fa85f94-7b62-4fb8-9880-7c2cba8a781b",
   "metadata": {
    "vscode": {
     "languageId": "python"
    }
   },
   "outputs": [
    {
     "data": {
      "application/vnd.jupyter.widget-view+json": {
       "model_id": "",
       "version_major": 2,
       "version_minor": 0
      },
      "text/plain": [
       "FloatProgress(value=0.0, bar_style='info', description='Progress:', layout=Layout(height='25px', width='50%'),…"
      ]
     },
     "metadata": {},
     "output_type": "display_data"
    }
   ],
   "source": [
    "with open(json_path,'r') as f:\n",
    "    data = json.load(f)"
   ]
  },
  {
   "cell_type": "code",
   "execution_count": 11,
   "id": "a4d7581a-a789-4980-b0ad-97815f7dd9cb",
   "metadata": {
    "vscode": {
     "languageId": "python"
    }
   },
   "outputs": [
    {
     "data": {
      "application/vnd.jupyter.widget-view+json": {
       "model_id": "",
       "version_major": 2,
       "version_minor": 0
      },
      "text/plain": [
       "FloatProgress(value=0.0, bar_style='info', description='Progress:', layout=Layout(height='25px', width='50%'),…"
      ]
     },
     "metadata": {},
     "output_type": "display_data"
    }
   ],
   "source": [
    "schema = StructType([ \\\n",
    "    StructField(\"characterID\",IntegerType(),True), \\\n",
    "    StructField(\"name\",StringType(),True),\n",
    "  ])"
   ]
  },
  {
   "cell_type": "code",
   "execution_count": 12,
   "id": "18f2ae8f-ba55-4851-b0c4-ee5b2867a4d6",
   "metadata": {
    "vscode": {
     "languageId": "python"
    }
   },
   "outputs": [
    {
     "data": {
      "application/vnd.jupyter.widget-view+json": {
       "model_id": "",
       "version_major": 2,
       "version_minor": 0
      },
      "text/plain": [
       "FloatProgress(value=0.0, bar_style='info', description='Progress:', layout=Layout(height='25px', width='50%'),…"
      ]
     },
     "metadata": {},
     "output_type": "display_data"
    }
   ],
   "source": [
    "schemaFromJson = StructType.fromJson(data)"
   ]
  },
  {
   "cell_type": "code",
   "execution_count": 13,
   "id": "c71d3e1d-3c86-4f5a-acf0-dad6dbda5572",
   "metadata": {
    "vscode": {
     "languageId": "python"
    }
   },
   "outputs": [
    {
     "data": {
      "application/vnd.jupyter.widget-view+json": {
       "model_id": "",
       "version_major": 2,
       "version_minor": 0
      },
      "text/plain": [
       "FloatProgress(value=0.0, bar_style='info', description='Progress:', layout=Layout(height='25px', width='50%'),…"
      ]
     },
     "metadata": {},
     "output_type": "display_data"
    }
   ],
   "source": [
    "df=spark.read.csv(f'{nam_path}/{nam_file}', header=bol_header, schema=schemaFromJson)"
   ]
  },
  {
   "cell_type": "code",
   "execution_count": 14,
   "id": "0084e182-fd96-4ab0-970b-78f5feab871a",
   "metadata": {
    "vscode": {
     "languageId": "python"
    }
   },
   "outputs": [
    {
     "data": {
      "application/vnd.jupyter.widget-view+json": {
       "model_id": "",
       "version_major": 2,
       "version_minor": 0
      },
      "text/plain": [
       "FloatProgress(value=0.0, bar_style='info', description='Progress:', layout=Layout(height='25px', width='50%'),…"
      ]
     },
     "metadata": {},
     "output_type": "display_data"
    }
   ],
   "source": [
    "desc_date=datetime.now()\n",
    "desc_date=desc_date.strftime('%Y%m%d')"
   ]
  },
  {
   "cell_type": "code",
   "execution_count": 15,
   "id": "de204b13-d37d-46ec-9cfd-81fa810d1b04",
   "metadata": {
    "vscode": {
     "languageId": "python"
    }
   },
   "outputs": [
    {
     "data": {
      "application/vnd.jupyter.widget-view+json": {
       "model_id": "",
       "version_major": 2,
       "version_minor": 0
      },
      "text/plain": [
       "FloatProgress(value=0.0, bar_style='info', description='Progress:', layout=Layout(height='25px', width='50%'),…"
      ]
     },
     "metadata": {},
     "output_type": "display_data"
    }
   ],
   "source": [
    "df=df.withColumn('dat_load', lit(desc_date))"
   ]
  },
  {
   "cell_type": "code",
   "execution_count": 16,
   "id": "2b8c515e-7bbb-46de-a8f0-086914a3a1a1",
   "metadata": {
    "vscode": {
     "languageId": "python"
    }
   },
   "outputs": [
    {
     "data": {
      "application/vnd.jupyter.widget-view+json": {
       "model_id": "",
       "version_major": 2,
       "version_minor": 0
      },
      "text/plain": [
       "FloatProgress(value=0.0, bar_style='info', description='Progress:', layout=Layout(height='25px', width='50%'),…"
      ]
     },
     "metadata": {},
     "output_type": "display_data"
    },
    {
     "name": "stdout",
     "output_type": "stream",
     "text": [
      "+-----------+--------------------+--------+\n",
      "|characterID|                name|dat_load|\n",
      "+-----------+--------------------+--------+\n",
      "|    1009220|     Captain America|20230301|\n",
      "|    1010740|      Winter Soldier|20230301|\n",
      "|    1009471|           Nick Fury|20230301|\n",
      "|    1009552|        S.H.I.E.L.D.|20230301|\n",
      "|    1009228|       Sharon Carter|20230301|\n",
      "|    1011109|    X-Men (Ultimate)|20230301|\n",
      "|    1010808|Hawkeye (Kate Bis...|20230301|\n",
      "|    1009515|            Punisher|20230301|\n",
      "|    1009252|          Crossbones|20230301|\n",
      "|    1009535|           Red Skull|20230301|\n",
      "+-----------+--------------------+--------+\n",
      "only showing top 10 rows"
     ]
    }
   ],
   "source": [
    "df.show(10)"
   ]
  },
  {
   "cell_type": "code",
   "execution_count": 17,
   "id": "be80f9cb-8b36-4fdb-9c48-2974dd2690d5",
   "metadata": {
    "vscode": {
     "languageId": "python"
    }
   },
   "outputs": [
    {
     "data": {
      "application/vnd.jupyter.widget-view+json": {
       "model_id": "",
       "version_major": 2,
       "version_minor": 0
      },
      "text/plain": [
       "FloatProgress(value=0.0, bar_style='info', description='Progress:', layout=Layout(height='25px', width='50%'),…"
      ]
     },
     "metadata": {},
     "output_type": "display_data"
    },
    {
     "name": "stdout",
     "output_type": "stream",
     "text": [
      "+-----------+--------------------+--------+\n",
      "|characterID|                name|dat_load|\n",
      "+-----------+--------------------+--------+\n",
      "|    1009220|     Captain America|20230301|\n",
      "|    1010740|      Winter Soldier|20230301|\n",
      "|    1009471|           Nick Fury|20230301|\n",
      "|    1009552|        S.H.I.E.L.D.|20230301|\n",
      "|    1009228|       Sharon Carter|20230301|\n",
      "|    1011109|    X-Men (Ultimate)|20230301|\n",
      "|    1010808|Hawkeye (Kate Bis...|20230301|\n",
      "|    1009515|            Punisher|20230301|\n",
      "|    1009252|          Crossbones|20230301|\n",
      "|    1009535|           Red Skull|20230301|\n",
      "+-----------+--------------------+--------+\n",
      "only showing top 10 rows"
     ]
    }
   ],
   "source": [
    "df.show(10)"
   ]
  },
  {
   "cell_type": "code",
   "execution_count": 18,
   "id": "2597385c-e5ec-46ad-8ded-fccfa2af090a",
   "metadata": {
    "vscode": {
     "languageId": "python"
    }
   },
   "outputs": [
    {
     "data": {
      "application/vnd.jupyter.widget-view+json": {
       "model_id": "",
       "version_major": 2,
       "version_minor": 0
      },
      "text/plain": [
       "FloatProgress(value=0.0, bar_style='info', description='Progress:', layout=Layout(height='25px', width='50%'),…"
      ]
     },
     "metadata": {},
     "output_type": "display_data"
    },
    {
     "name": "stdout",
     "output_type": "stream",
     "text": [
      "{\"fields\":[{\"metadata\":{},\"name\":\"characterID\",\"nullable\":true,\"type\":\"integer\"},{\"metadata\":{},\"name\":\"name\",\"nullable\":true,\"type\":\"string\"},{\"metadata\":{},\"name\":\"dat_load\",\"nullable\":false,\"type\":\"string\"}],\"type\":\"struct\"}"
     ]
    }
   ],
   "source": [
    "print(df.schema.json())"
   ]
  },
  {
   "cell_type": "markdown",
   "id": "7d15b739-74eb-4803-9772-308e1fc74034",
   "metadata": {},
   "source": [
    "### Uso do delta para apredenzido"
   ]
  },
  {
   "cell_type": "code",
   "execution_count": 21,
   "id": "1311a55a-9a66-44ea-b17a-d0bc9e04072f",
   "metadata": {
    "vscode": {
     "languageId": "python"
    }
   },
   "outputs": [
    {
     "data": {
      "application/vnd.jupyter.widget-view+json": {
       "model_id": "",
       "version_major": 2,
       "version_minor": 0
      },
      "text/plain": [
       "FloatProgress(value=0.0, bar_style='info', description='Progress:', layout=Layout(height='25px', width='50%'),…"
      ]
     },
     "metadata": {},
     "output_type": "display_data"
    }
   ],
   "source": [
    "df.write.format(\"delta\").mode(\"overwrite\").save(f'{nam_path}/delta/characters')"
   ]
  },
  {
   "cell_type": "markdown",
   "id": "15b8ffb8-ad56-4ea1-bbb8-5161a5e25e7f",
   "metadata": {},
   "source": [
    "### Lendo dados no formato delta"
   ]
  },
  {
   "cell_type": "markdown",
   "id": "15bc584a-de50-43a1-8e21-0aeb3612f64e",
   "metadata": {},
   "source": [
    "Writing files in delta tables"
   ]
  },
  {
   "cell_type": "code",
   "execution_count": 51,
   "id": "1a8a5741-c1cf-4cc4-a11d-d154109065bc",
   "metadata": {
    "vscode": {
     "languageId": "python"
    }
   },
   "outputs": [
    {
     "data": {
      "application/vnd.jupyter.widget-view+json": {
       "model_id": "",
       "version_major": 2,
       "version_minor": 0
      },
      "text/plain": [
       "FloatProgress(value=0.0, bar_style='info', description='Progress:', layout=Layout(height='25px', width='50%'),…"
      ]
     },
     "metadata": {},
     "output_type": "display_data"
    }
   ],
   "source": [
    "df = spark.read.format(\"delta\").load(f'{nam_path}/delta/characters')"
   ]
  },
  {
   "cell_type": "code",
   "execution_count": 52,
   "id": "e116eb8c-2cbc-4253-af58-51784aa39b65",
   "metadata": {
    "vscode": {
     "languageId": "python"
    }
   },
   "outputs": [
    {
     "data": {
      "application/vnd.jupyter.widget-view+json": {
       "model_id": "",
       "version_major": 2,
       "version_minor": 0
      },
      "text/plain": [
       "FloatProgress(value=0.0, bar_style='info', description='Progress:', layout=Layout(height='25px', width='50%'),…"
      ]
     },
     "metadata": {},
     "output_type": "display_data"
    },
    {
     "name": "stdout",
     "output_type": "stream",
     "text": [
      "+-----------+--------------------+--------+\n",
      "|characterID|                name|dat_load|\n",
      "+-----------+--------------------+--------+\n",
      "|    1009220|     Captain America|20230209|\n",
      "|    1010740|      Winter Soldier|20230209|\n",
      "|    1009471|           Nick Fury|20230209|\n",
      "|    1009552|        S.H.I.E.L.D.|20230209|\n",
      "|    1009228|       Sharon Carter|20230209|\n",
      "|    1011109|    X-Men (Ultimate)|20230209|\n",
      "|    1010808|Hawkeye (Kate Bis...|20230209|\n",
      "|    1009515|            Punisher|20230209|\n",
      "|    1009252|          Crossbones|20230209|\n",
      "|    1009535|           Red Skull|20230209|\n",
      "+-----------+--------------------+--------+\n",
      "only showing top 10 rows"
     ]
    }
   ],
   "source": [
    "df.show(10)"
   ]
  },
  {
   "cell_type": "code",
   "execution_count": 21,
   "id": "61de5d1c-8b42-4bf0-b3cb-facfb85cf9bf",
   "metadata": {
    "vscode": {
     "languageId": "python"
    }
   },
   "outputs": [],
   "source": [
    "df=df.filter(df['characterID'].isin(1009220,1009471))"
   ]
  },
  {
   "cell_type": "code",
   "execution_count": 22,
   "id": "afe96c29-4937-4298-9043-a1273be09cb3",
   "metadata": {
    "vscode": {
     "languageId": "python"
    }
   },
   "outputs": [
    {
     "name": "stdout",
     "output_type": "stream",
     "text": [
      "+-----------+---------------+\n",
      "|characterID|           name|\n",
      "+-----------+---------------+\n",
      "|    1009220|Captain America|\n",
      "|    1009471|      Nick Fury|\n",
      "+-----------+---------------+\n",
      "\n"
     ]
    }
   ],
   "source": [
    "df.show(10)"
   ]
  },
  {
   "cell_type": "code",
   "execution_count": 53,
   "id": "ea9867b4-c97f-49d9-93bc-20fc887dc2e1",
   "metadata": {},
   "outputs": [
    {
     "name": "stderr",
     "output_type": "stream",
     "text": [
      "\n",
      "An error occurred (RequestTimeTooSkewed) when calling the ListBuckets operation: The difference between the request time and the current time is too large.\n"
     ]
    },
    {
     "ename": "CalledProcessError",
     "evalue": "Command 'b'aws s3 ls\\n'' returned non-zero exit status 255.",
     "output_type": "error",
     "traceback": [
      "\u001b[0;31m---------------------------------------------------------------------------\u001b[0m",
      "\u001b[0;31mCalledProcessError\u001b[0m                        Traceback (most recent call last)",
      "Cell \u001b[0;32mIn[53], line 1\u001b[0m\n\u001b[0;32m----> 1\u001b[0m \u001b[43mget_ipython\u001b[49m\u001b[43m(\u001b[49m\u001b[43m)\u001b[49m\u001b[38;5;241;43m.\u001b[39;49m\u001b[43mrun_cell_magic\u001b[49m\u001b[43m(\u001b[49m\u001b[38;5;124;43m'\u001b[39;49m\u001b[38;5;124;43msh\u001b[39;49m\u001b[38;5;124;43m'\u001b[39;49m\u001b[43m,\u001b[49m\u001b[43m \u001b[49m\u001b[38;5;124;43m'\u001b[39;49m\u001b[38;5;124;43m'\u001b[39;49m\u001b[43m,\u001b[49m\u001b[43m \u001b[49m\u001b[38;5;124;43m'\u001b[39;49m\u001b[38;5;124;43maws s3 ls\u001b[39;49m\u001b[38;5;130;43;01m\\n\u001b[39;49;00m\u001b[38;5;124;43m'\u001b[39;49m\u001b[43m)\u001b[49m\n",
      "File \u001b[0;32m~/.local/lib/python3.10/site-packages/IPython/core/interactiveshell.py:2422\u001b[0m, in \u001b[0;36mInteractiveShell.run_cell_magic\u001b[0;34m(self, magic_name, line, cell)\u001b[0m\n\u001b[1;32m   2420\u001b[0m \u001b[38;5;28;01mwith\u001b[39;00m \u001b[38;5;28mself\u001b[39m\u001b[38;5;241m.\u001b[39mbuiltin_trap:\n\u001b[1;32m   2421\u001b[0m     args \u001b[38;5;241m=\u001b[39m (magic_arg_s, cell)\n\u001b[0;32m-> 2422\u001b[0m     result \u001b[38;5;241m=\u001b[39m \u001b[43mfn\u001b[49m\u001b[43m(\u001b[49m\u001b[38;5;241;43m*\u001b[39;49m\u001b[43margs\u001b[49m\u001b[43m,\u001b[49m\u001b[43m \u001b[49m\u001b[38;5;241;43m*\u001b[39;49m\u001b[38;5;241;43m*\u001b[39;49m\u001b[43mkwargs\u001b[49m\u001b[43m)\u001b[49m\n\u001b[1;32m   2423\u001b[0m \u001b[38;5;28;01mreturn\u001b[39;00m result\n",
      "File \u001b[0;32m~/.local/lib/python3.10/site-packages/IPython/core/magics/script.py:153\u001b[0m, in \u001b[0;36mScriptMagics._make_script_magic.<locals>.named_script_magic\u001b[0;34m(line, cell)\u001b[0m\n\u001b[1;32m    151\u001b[0m \u001b[38;5;28;01melse\u001b[39;00m:\n\u001b[1;32m    152\u001b[0m     line \u001b[38;5;241m=\u001b[39m script\n\u001b[0;32m--> 153\u001b[0m \u001b[38;5;28;01mreturn\u001b[39;00m \u001b[38;5;28;43mself\u001b[39;49m\u001b[38;5;241;43m.\u001b[39;49m\u001b[43mshebang\u001b[49m\u001b[43m(\u001b[49m\u001b[43mline\u001b[49m\u001b[43m,\u001b[49m\u001b[43m \u001b[49m\u001b[43mcell\u001b[49m\u001b[43m)\u001b[49m\n",
      "File \u001b[0;32m~/.local/lib/python3.10/site-packages/IPython/core/magics/script.py:305\u001b[0m, in \u001b[0;36mScriptMagics.shebang\u001b[0;34m(self, line, cell)\u001b[0m\n\u001b[1;32m    300\u001b[0m \u001b[38;5;28;01mif\u001b[39;00m args\u001b[38;5;241m.\u001b[39mraise_error \u001b[38;5;129;01mand\u001b[39;00m p\u001b[38;5;241m.\u001b[39mreturncode \u001b[38;5;241m!=\u001b[39m \u001b[38;5;241m0\u001b[39m:\n\u001b[1;32m    301\u001b[0m     \u001b[38;5;66;03m# If we get here and p.returncode is still None, we must have\u001b[39;00m\n\u001b[1;32m    302\u001b[0m     \u001b[38;5;66;03m# killed it but not yet seen its return code. We don't wait for it,\u001b[39;00m\n\u001b[1;32m    303\u001b[0m     \u001b[38;5;66;03m# in case it's stuck in uninterruptible sleep. -9 = SIGKILL\u001b[39;00m\n\u001b[1;32m    304\u001b[0m     rc \u001b[38;5;241m=\u001b[39m p\u001b[38;5;241m.\u001b[39mreturncode \u001b[38;5;129;01mor\u001b[39;00m \u001b[38;5;241m-\u001b[39m\u001b[38;5;241m9\u001b[39m\n\u001b[0;32m--> 305\u001b[0m     \u001b[38;5;28;01mraise\u001b[39;00m CalledProcessError(rc, cell)\n",
      "\u001b[0;31mCalledProcessError\u001b[0m: Command 'b'aws s3 ls\\n'' returned non-zero exit status 255."
     ]
    }
   ],
   "source": [
    "%%sh\n",
    "aws s3 ls"
   ]
  },
  {
   "cell_type": "markdown",
   "id": "1b285a7a-31ca-496c-86aa-0eabad13fd14",
   "metadata": {},
   "source": [
    "### Overwrite"
   ]
  },
  {
   "cell_type": "code",
   "execution_count": 18,
   "id": "c75eb3f7-405b-4e79-ba61-b0e62ce27e3e",
   "metadata": {
    "vscode": {
     "languageId": "python"
    }
   },
   "outputs": [],
   "source": [
    "df.write.format(\"delta\").mode(\"overwrite\").save(f'{nam_path}/delta/characters')"
   ]
  },
  {
   "cell_type": "code",
   "execution_count": 24,
   "id": "4f9d5f8f-96be-4ad4-a90c-76338aa0f639",
   "metadata": {
    "vscode": {
     "languageId": "python"
    }
   },
   "outputs": [],
   "source": [
    "df = spark.read.format(\"delta\").load(f'{nam_path}/delta/characters')"
   ]
  },
  {
   "cell_type": "code",
   "execution_count": 25,
   "id": "145fa75b-8ec1-4188-a722-cde5efa2c269",
   "metadata": {
    "vscode": {
     "languageId": "python"
    }
   },
   "outputs": [
    {
     "name": "stdout",
     "output_type": "stream",
     "text": [
      "+-----------+---------------+\n",
      "|characterID|           name|\n",
      "+-----------+---------------+\n",
      "|    1009220|Captain America|\n",
      "|    1009471|      Nick Fury|\n",
      "+-----------+---------------+\n",
      "\n"
     ]
    }
   ],
   "source": [
    "df.show(10)"
   ]
  },
  {
   "cell_type": "markdown",
   "id": "b0dddf70-febb-4c74-90a1-8d46830e826e",
   "metadata": {},
   "source": [
    "### Update"
   ]
  },
  {
   "cell_type": "code",
   "execution_count": 21,
   "id": "98b83ed7-ba99-45a9-99e7-290c335e69a1",
   "metadata": {
    "vscode": {
     "languageId": "python"
    }
   },
   "outputs": [
    {
     "data": {
      "application/vnd.jupyter.widget-view+json": {
       "model_id": "",
       "version_major": 2,
       "version_minor": 0
      },
      "text/plain": [
       "FloatProgress(value=0.0, bar_style='info', description='Progress:', layout=Layout(height='25px', width='50%'),…"
      ]
     },
     "metadata": {},
     "output_type": "display_data"
    },
    {
     "name": "stderr",
     "output_type": "stream",
     "text": [
      "An error was encountered:\n",
      "`..//..//data_set/delta/characters` is not a Delta table.\n",
      "Traceback (most recent call last):\n",
      "  File \"/tmp/spark-d6152a16-d250-43b4-abff-65892274b8f0/userFiles-4b6cfa09-d967-446a-8312-72233aec7cd9/io.delta_delta-core_2.12-1.0.0.jar/delta/tables.py\", line 292, in forPath\n",
      "    jdt = sparkSession._sc._jvm.io.delta.tables.DeltaTable.forPath(\n",
      "  File \"/home/glue_user/spark/python/lib/py4j-0.10.9.5-src.zip/py4j/java_gateway.py\", line 1321, in __call__\n",
      "    return_value = get_return_value(\n",
      "  File \"/home/glue_user/spark/python/pyspark/sql/utils.py\", line 196, in deco\n",
      "    raise converted from None\n",
      "pyspark.sql.utils.AnalysisException: `..//..//data_set/delta/characters` is not a Delta table.\n",
      "\n"
     ]
    }
   ],
   "source": [
    "deltaTable = DeltaTable.forPath(spark, f'{nam_path}/delta/characters')"
   ]
  },
  {
   "cell_type": "code",
   "execution_count": 27,
   "id": "c9f8bb24-91c3-477e-8b5b-837e41b917ce",
   "metadata": {
    "vscode": {
     "languageId": "python"
    }
   },
   "outputs": [],
   "source": [
    "deltaTable.update(\"characterID = 1009220\", \n",
    "            { \"name\":\"'Captain America___'\",} )"
   ]
  },
  {
   "cell_type": "code",
   "execution_count": 28,
   "id": "6f2917f7-1ce0-47f8-829f-1e5fbc7b0a20",
   "metadata": {
    "vscode": {
     "languageId": "python"
    }
   },
   "outputs": [
    {
     "name": "stdout",
     "output_type": "stream",
     "text": [
      "+-----------+------------------+\n",
      "|characterID|name              |\n",
      "+-----------+------------------+\n",
      "|1009220    |Captain America___|\n",
      "|1009471    |Nick Fury         |\n",
      "+-----------+------------------+\n",
      "\n"
     ]
    }
   ],
   "source": [
    "deltaTable.toDF().orderBy(\"characterID\").show(truncate=False)"
   ]
  },
  {
   "cell_type": "markdown",
   "id": "cb08a246-0373-46b9-a579-86d6835c2ea3",
   "metadata": {},
   "source": [
    "### Delete"
   ]
  },
  {
   "cell_type": "code",
   "execution_count": 29,
   "id": "ce1948f9-e255-41e4-a819-e10c6d0d4a5a",
   "metadata": {
    "vscode": {
     "languageId": "python"
    }
   },
   "outputs": [],
   "source": [
    "deltaTable = DeltaTable.forPath(spark, f'{nam_path}/delta/characters')\n",
    "deltaTable.delete(\"characterID=1009220\")"
   ]
  },
  {
   "cell_type": "code",
   "execution_count": 30,
   "id": "7bd26c2c-15df-4f91-8454-38753286f923",
   "metadata": {
    "vscode": {
     "languageId": "python"
    }
   },
   "outputs": [
    {
     "name": "stdout",
     "output_type": "stream",
     "text": [
      "+-----------+---------+\n",
      "|characterID|     name|\n",
      "+-----------+---------+\n",
      "|    1009471|Nick Fury|\n",
      "+-----------+---------+\n",
      "\n"
     ]
    }
   ],
   "source": [
    "deltaTable.toDF().show(10)"
   ]
  },
  {
   "cell_type": "markdown",
   "id": "d9bea5a2-13a4-489b-b1d2-d59f7272ff4c",
   "metadata": {},
   "source": [
    "### Merge"
   ]
  },
  {
   "cell_type": "code",
   "execution_count": 31,
   "id": "7b49ef02-d0cc-4ee8-af97-0eef69d59581",
   "metadata": {
    "vscode": {
     "languageId": "python"
    }
   },
   "outputs": [],
   "source": [
    "df_tmp=spark.read.csv(f'{nam_path}/{nam_file}', header=bol_header, schema=schemaFromJson)"
   ]
  },
  {
   "cell_type": "code",
   "execution_count": 32,
   "id": "5de3aeb9-9fc7-45f9-9285-90adcb3ff376",
   "metadata": {
    "vscode": {
     "languageId": "python"
    }
   },
   "outputs": [
    {
     "name": "stdout",
     "output_type": "stream",
     "text": [
      "+-----------+--------------------+\n",
      "|characterID|                name|\n",
      "+-----------+--------------------+\n",
      "|    1009220|     Captain America|\n",
      "|    1010740|      Winter Soldier|\n",
      "|    1009471|           Nick Fury|\n",
      "|    1009552|        S.H.I.E.L.D.|\n",
      "|    1009228|       Sharon Carter|\n",
      "|    1011109|    X-Men (Ultimate)|\n",
      "|    1010808|Hawkeye (Kate Bis...|\n",
      "|    1009515|            Punisher|\n",
      "|    1009252|          Crossbones|\n",
      "|    1009535|           Red Skull|\n",
      "+-----------+--------------------+\n",
      "only showing top 10 rows\n",
      "\n"
     ]
    }
   ],
   "source": [
    "df_tmp.show(10)"
   ]
  },
  {
   "cell_type": "code",
   "execution_count": 33,
   "id": "3dda1abd-b75f-4d1d-a2ec-1e362aa660b8",
   "metadata": {
    "vscode": {
     "languageId": "python"
    }
   },
   "outputs": [],
   "source": [
    "deltaTable = DeltaTable.forPath(spark, f'{nam_path}/delta/characters')"
   ]
  },
  {
   "cell_type": "code",
   "execution_count": 34,
   "id": "6a7da8ab-0c4a-4153-a350-fd11bf9e8bfa",
   "metadata": {
    "vscode": {
     "languageId": "python"
    }
   },
   "outputs": [
    {
     "name": "stdout",
     "output_type": "stream",
     "text": [
      "+-----------+---------+\n",
      "|characterID|     name|\n",
      "+-----------+---------+\n",
      "|    1009471|Nick Fury|\n",
      "+-----------+---------+\n",
      "\n"
     ]
    }
   ],
   "source": [
    "deltaTable.toDF().show(10)"
   ]
  },
  {
   "cell_type": "code",
   "execution_count": 39,
   "id": "e347aea8-026b-4e7b-b450-0f38b5cf143a",
   "metadata": {
    "vscode": {
     "languageId": "python"
    }
   },
   "outputs": [],
   "source": [
    "deltaTable.alias('characters') \\\n",
    "  .merge( \\\n",
    "    df_tmp.alias('characters_tmp'), \\\n",
    "    'characters.characterID = characters_tmp.characterID' \\\n",
    "  ).whenMatchedUpdateAll() \\\n",
    "   .whenNotMatchedInsertAll() \\\n",
    "   .execute()"
   ]
  },
  {
   "cell_type": "markdown",
   "id": "fd9829da-c952-4358-9e2b-cdf1fb150ac3",
   "metadata": {},
   "source": [
    "https://docs.delta.io/latest/delta-update.html#language-python"
   ]
  },
  {
   "cell_type": "code",
   "execution_count": 40,
   "id": "679112e5-224c-4dd5-ac58-ee5303019a18",
   "metadata": {
    "vscode": {
     "languageId": "python"
    }
   },
   "outputs": [],
   "source": [
    "deltaTable = DeltaTable.forPath(spark, f'{nam_path}/delta/characters')"
   ]
  },
  {
   "cell_type": "code",
   "execution_count": 41,
   "id": "6797893c-cbca-419e-9ddc-8e7a711e3ddf",
   "metadata": {
    "vscode": {
     "languageId": "python"
    }
   },
   "outputs": [],
   "source": [
    "deltaTable=deltaTable.toDF()"
   ]
  },
  {
   "cell_type": "code",
   "execution_count": null,
   "id": "6819cb3d-2891-462b-a9e8-6394f0bfdd6e",
   "metadata": {
    "vscode": {
     "languageId": "python"
    }
   },
   "outputs": [],
   "source": []
  },
  {
   "cell_type": "code",
   "execution_count": 42,
   "id": "83ef89b5-6244-44da-aa76-8ef5a65c2b2c",
   "metadata": {
    "vscode": {
     "languageId": "python"
    }
   },
   "outputs": [
    {
     "name": "stdout",
     "output_type": "stream",
     "text": [
      "+-----------+---------+\n",
      "|characterID|     name|\n",
      "+-----------+---------+\n",
      "|    1009471|Nick Fury|\n",
      "+-----------+---------+\n",
      "\n"
     ]
    }
   ],
   "source": [
    "deltaTable.filter(deltaTable['characterID']==1009471).show(10)"
   ]
  },
  {
   "cell_type": "code",
   "execution_count": 43,
   "id": "e8408c34-c5ed-4a82-8a6b-24b68aac1e4b",
   "metadata": {
    "vscode": {
     "languageId": "python"
    }
   },
   "outputs": [
    {
     "name": "stdout",
     "output_type": "stream",
     "text": [
      "+-----------+--------------------+\n",
      "|characterID|                name|\n",
      "+-----------+--------------------+\n",
      "|    1009144|              A.I.M.|\n",
      "|    1009146|Abomination (Emil...|\n",
      "|    1009148|       Absorbing Man|\n",
      "|    1009149|               Abyss|\n",
      "|    1009150|          Agent Zero|\n",
      "|    1009151|               Amiko|\n",
      "|    1009152|         Ancient One|\n",
      "|    1009153|Angel (Warren Wor...|\n",
      "|    1009154|           Annihilus|\n",
      "|    1009156|          Apocalypse|\n",
      "|    1009157|Spider-Girl (Anya...|\n",
      "|    1009158|              Arcade|\n",
      "|    1009159|           Archangel|\n",
      "|    1009160|            Arclight|\n",
      "|    1009163|              Aurora|\n",
      "|    1009164|           Avalanche|\n",
      "|    1009165|            Avengers|\n",
      "|    1009167|        Bruce Banner|\n",
      "|    1009168|             Banshee|\n",
      "|    1009169|      Baron Strucker|\n",
      "+-----------+--------------------+\n",
      "only showing top 20 rows\n",
      "\n"
     ]
    }
   ],
   "source": [
    "deltaTable.show()"
   ]
  },
  {
   "cell_type": "code",
   "execution_count": 99,
   "id": "b2d4f373-233b-4911-a56d-489be14265ad",
   "metadata": {
    "vscode": {
     "languageId": "python"
    }
   },
   "outputs": [],
   "source": [
    "table = DeltaTable.forPath(spark, f'{nam_path}/delta/characters')"
   ]
  },
  {
   "cell_type": "code",
   "execution_count": 100,
   "id": "ece464a8-ad79-401d-967b-743d64cb3e0d",
   "metadata": {
    "vscode": {
     "languageId": "python"
    }
   },
   "outputs": [
    {
     "data": {
      "text/plain": [
       "DataFrame[]"
      ]
     },
     "execution_count": 100,
     "metadata": {},
     "output_type": "execute_result"
    }
   ],
   "source": [
    "table.vacuum(1000)"
   ]
  },
  {
   "cell_type": "code",
   "execution_count": null,
   "id": "b7c25b4d-5711-4b67-bd13-5e96faa983dd",
   "metadata": {
    "vscode": {
     "languageId": "python"
    }
   },
   "outputs": [],
   "source": []
  },
  {
   "cell_type": "code",
   "execution_count": 42,
   "id": "15228779-838c-4f7f-ab8d-57b21e207d80",
   "metadata": {
    "vscode": {
     "languageId": "python"
    }
   },
   "outputs": [],
   "source": [
    "from pyspark.sql import SparkSession\n",
    "from pyspark.sql.types import *\n",
    "import json\n",
    "from pyspark.sql import types\n",
    "from delta import *\n",
    "from pyspark.sql.functions import *\n",
    "from delta.tables import *\n",
    "from pyspark.sql.functions import *\n",
    "from datetime import datetime\n",
    "\n",
    "class ProcessBronzeData:\n",
    "\n",
    "    def __init__(self, nam_file, path_source=None, path_target=None, ):\n",
    "        self.path_source = path_source\n",
    "        self.path_target = path_target\n",
    "        self.nam_file = nam_file\n",
    "\n",
    "    def spark_session(self):\n",
    "        builder = SparkSession.builder.appName(\"MyApp\") \\\n",
    "                    .config(\"spark.sql.extensions\", \"io.delta.sql.DeltaSparkSessionExtension\") \\\n",
    "                    .config(\"spark.sql.catalog.spark_catalog\", \"org.apache.spark.sql.delta.catalog.DeltaCatalog\")\n",
    "\n",
    "        spark = configure_spark_with_delta_pip(builder).getOrCreate()\n",
    "        \n",
    "        return spark\n",
    "\n",
    "    def load_schema_file(self,nam_path):\n",
    "        with open(f\"{json_path}/{self.nam_file}.json\",'r') as f:\n",
    "            data = json.load(f)\n",
    "        schemaFromJson = StructType.fromJson(data)\n",
    "\n",
    "        return schemaFromJson\n",
    "\n",
    "    def load_bronze_data_csv(self, spark, schema, header=True, pk='ID'):\n",
    "        \n",
    "        df=spark.read.csv(f'{self.path_source}/{self.nam_file}.csv', header=header, schema=schema)\n",
    "        desc_date=datetime.now()\n",
    "        desc_date=desc_date.strftime('%Y%m%d')\n",
    "        df=df.withColumn('dat_load', lit(desc_date))\n",
    "        \n",
    "        if (a>0):\n",
    "            df.write.format(\"delta\").mode(\"overwrite\").partitionBy(\"dat_load\").save(f'{self.path_target}/delta/{self.nam_file}')\n",
    "        else:\n",
    "            deltaTable.alias(f\"{self.nam_file}\") \\\n",
    "              .merge( \\\n",
    "                df_tmp.alias(f\"{self.nam_file}_tmp\"), \\\n",
    "                f'{self.nam_file}.{pk} = {self.nam_file}_tmp' \\\n",
    "              ).whenMatchedUpdateAll() \\\n",
    "               .whenNotMatchedInsertAll() \\\n",
    "               .execute()\n",
    "            \n",
    "        delta_table.vacuum()\n",
    "\n",
    "\n",
    "if __name__ == '__main__':\n",
    "    nam_path='..//..//data_set'\n",
    "    nam_file='characters'\n",
    "    json_path='schemas'\n",
    "\n",
    "    bronze_data=ProcessBronzeData(nam_file, nam_path, nam_path)\n",
    "    spark=bronze_data.spark_session()\n",
    "    schema=bronze_data.load_schema_file(json_path)\n",
    "    bronze_data.load_bronze_data_csv(spark, schema)\n"
   ]
  },
  {
   "cell_type": "code",
   "execution_count": 47,
   "id": "45daa01e-31bf-4ae7-a574-74ddafc49e9a",
   "metadata": {
    "vscode": {
     "languageId": "python"
    }
   },
   "outputs": [
    {
     "ename": "AnalysisException",
     "evalue": "`..//..//data_set/delta/characters` is not a Delta table.",
     "output_type": "error",
     "traceback": [
      "\u001b[0;31m---------------------------------------------------------------------------\u001b[0m",
      "\u001b[0;31mAnalysisException\u001b[0m                         Traceback (most recent call last)",
      "Cell \u001b[0;32mIn[47], line 1\u001b[0m\n\u001b[0;32m----> 1\u001b[0m delta_merge \u001b[38;5;241m=\u001b[39m \u001b[43mDeltaTable\u001b[49m\u001b[38;5;241;43m.\u001b[39;49m\u001b[43mforPath\u001b[49m\u001b[43m(\u001b[49m\u001b[43mspark\u001b[49m\u001b[43m,\u001b[49m\u001b[43m \u001b[49m\u001b[38;5;124;43mf\u001b[39;49m\u001b[38;5;124;43m'\u001b[39;49m\u001b[38;5;132;43;01m{\u001b[39;49;00m\u001b[43mnam_path\u001b[49m\u001b[38;5;132;43;01m}\u001b[39;49;00m\u001b[38;5;124;43m/delta/characters\u001b[39;49m\u001b[38;5;124;43m'\u001b[39;49m\u001b[43m)\u001b[49m\n",
      "File \u001b[0;32m/opt/conda/lib/python3.10/site-packages/delta/tables.py:387\u001b[0m, in \u001b[0;36mDeltaTable.forPath\u001b[0;34m(cls, sparkSession, path, hadoopConf)\u001b[0m\n\u001b[1;32m    384\u001b[0m jvm: \u001b[38;5;124m\"\u001b[39m\u001b[38;5;124mJVMView\u001b[39m\u001b[38;5;124m\"\u001b[39m \u001b[38;5;241m=\u001b[39m sparkSession\u001b[38;5;241m.\u001b[39m_sc\u001b[38;5;241m.\u001b[39m_jvm  \u001b[38;5;66;03m# type: ignore[attr-defined]\u001b[39;00m\n\u001b[1;32m    385\u001b[0m jsparkSession: \u001b[38;5;124m\"\u001b[39m\u001b[38;5;124mJavaObject\u001b[39m\u001b[38;5;124m\"\u001b[39m \u001b[38;5;241m=\u001b[39m sparkSession\u001b[38;5;241m.\u001b[39m_jsparkSession  \u001b[38;5;66;03m# type: ignore[attr-defined]\u001b[39;00m\n\u001b[0;32m--> 387\u001b[0m jdt \u001b[38;5;241m=\u001b[39m \u001b[43mjvm\u001b[49m\u001b[38;5;241;43m.\u001b[39;49m\u001b[43mio\u001b[49m\u001b[38;5;241;43m.\u001b[39;49m\u001b[43mdelta\u001b[49m\u001b[38;5;241;43m.\u001b[39;49m\u001b[43mtables\u001b[49m\u001b[38;5;241;43m.\u001b[39;49m\u001b[43mDeltaTable\u001b[49m\u001b[38;5;241;43m.\u001b[39;49m\u001b[43mforPath\u001b[49m\u001b[43m(\u001b[49m\u001b[43mjsparkSession\u001b[49m\u001b[43m,\u001b[49m\u001b[43m \u001b[49m\u001b[43mpath\u001b[49m\u001b[43m,\u001b[49m\u001b[43m \u001b[49m\u001b[43mhadoopConf\u001b[49m\u001b[43m)\u001b[49m\n\u001b[1;32m    388\u001b[0m \u001b[38;5;28;01mreturn\u001b[39;00m DeltaTable(sparkSession, jdt)\n",
      "File \u001b[0;32m/usr/local/spark/python/lib/py4j-0.10.9.5-src.zip/py4j/java_gateway.py:1321\u001b[0m, in \u001b[0;36mJavaMember.__call__\u001b[0;34m(self, *args)\u001b[0m\n\u001b[1;32m   1315\u001b[0m command \u001b[38;5;241m=\u001b[39m proto\u001b[38;5;241m.\u001b[39mCALL_COMMAND_NAME \u001b[38;5;241m+\u001b[39m\\\n\u001b[1;32m   1316\u001b[0m     \u001b[38;5;28mself\u001b[39m\u001b[38;5;241m.\u001b[39mcommand_header \u001b[38;5;241m+\u001b[39m\\\n\u001b[1;32m   1317\u001b[0m     args_command \u001b[38;5;241m+\u001b[39m\\\n\u001b[1;32m   1318\u001b[0m     proto\u001b[38;5;241m.\u001b[39mEND_COMMAND_PART\n\u001b[1;32m   1320\u001b[0m answer \u001b[38;5;241m=\u001b[39m \u001b[38;5;28mself\u001b[39m\u001b[38;5;241m.\u001b[39mgateway_client\u001b[38;5;241m.\u001b[39msend_command(command)\n\u001b[0;32m-> 1321\u001b[0m return_value \u001b[38;5;241m=\u001b[39m \u001b[43mget_return_value\u001b[49m\u001b[43m(\u001b[49m\n\u001b[1;32m   1322\u001b[0m \u001b[43m    \u001b[49m\u001b[43manswer\u001b[49m\u001b[43m,\u001b[49m\u001b[43m \u001b[49m\u001b[38;5;28;43mself\u001b[39;49m\u001b[38;5;241;43m.\u001b[39;49m\u001b[43mgateway_client\u001b[49m\u001b[43m,\u001b[49m\u001b[43m \u001b[49m\u001b[38;5;28;43mself\u001b[39;49m\u001b[38;5;241;43m.\u001b[39;49m\u001b[43mtarget_id\u001b[49m\u001b[43m,\u001b[49m\u001b[43m \u001b[49m\u001b[38;5;28;43mself\u001b[39;49m\u001b[38;5;241;43m.\u001b[39;49m\u001b[43mname\u001b[49m\u001b[43m)\u001b[49m\n\u001b[1;32m   1324\u001b[0m \u001b[38;5;28;01mfor\u001b[39;00m temp_arg \u001b[38;5;129;01min\u001b[39;00m temp_args:\n\u001b[1;32m   1325\u001b[0m     temp_arg\u001b[38;5;241m.\u001b[39m_detach()\n",
      "File \u001b[0;32m/usr/local/spark/python/pyspark/sql/utils.py:196\u001b[0m, in \u001b[0;36mcapture_sql_exception.<locals>.deco\u001b[0;34m(*a, **kw)\u001b[0m\n\u001b[1;32m    192\u001b[0m converted \u001b[38;5;241m=\u001b[39m convert_exception(e\u001b[38;5;241m.\u001b[39mjava_exception)\n\u001b[1;32m    193\u001b[0m \u001b[38;5;28;01mif\u001b[39;00m \u001b[38;5;129;01mnot\u001b[39;00m \u001b[38;5;28misinstance\u001b[39m(converted, UnknownException):\n\u001b[1;32m    194\u001b[0m     \u001b[38;5;66;03m# Hide where the exception came from that shows a non-Pythonic\u001b[39;00m\n\u001b[1;32m    195\u001b[0m     \u001b[38;5;66;03m# JVM exception message.\u001b[39;00m\n\u001b[0;32m--> 196\u001b[0m     \u001b[38;5;28;01mraise\u001b[39;00m converted \u001b[38;5;28;01mfrom\u001b[39;00m \u001b[38;5;28mNone\u001b[39m\n\u001b[1;32m    197\u001b[0m \u001b[38;5;28;01melse\u001b[39;00m:\n\u001b[1;32m    198\u001b[0m     \u001b[38;5;28;01mraise\u001b[39;00m\n",
      "\u001b[0;31mAnalysisException\u001b[0m: `..//..//data_set/delta/characters` is not a Delta table."
     ]
    }
   ],
   "source": [
    "delta_merge = DeltaTable.forPath(spark, f'{nam_path}/delta/characters')"
   ]
  },
  {
   "cell_type": "code",
   "execution_count": 44,
   "id": "a7d7a093-bf5d-40cd-b3bb-89dd01499482",
   "metadata": {
    "vscode": {
     "languageId": "python"
    }
   },
   "outputs": [],
   "source": [
    "delta_merge=delta_merge.toDF()"
   ]
  },
  {
   "cell_type": "code",
   "execution_count": 46,
   "id": "1f68ec58-73cc-491b-8e8e-c44ac3d5fd98",
   "metadata": {
    "vscode": {
     "languageId": "python"
    }
   },
   "outputs": [
    {
     "data": {
      "text/plain": [
       "1170"
      ]
     },
     "execution_count": 46,
     "metadata": {},
     "output_type": "execute_result"
    }
   ],
   "source": [
    "delta_merge.count()"
   ]
  },
  {
   "cell_type": "code",
   "execution_count": 22,
   "id": "ec4a987d-8c98-46ff-9570-7e23588a8f86",
   "metadata": {
    "vscode": {
     "languageId": "python"
    }
   },
   "outputs": [
    {
     "name": "stderr",
     "output_type": "stream",
     "text": [
      "UsageError: %%sql is a cell magic, but the cell body is empty.\n"
     ]
    }
   ],
   "source": [
    "%%sql\n"
   ]
  },
  {
   "cell_type": "code",
   "execution_count": null,
   "id": "022fbd8c-1a00-4651-9e9e-ad432dd3047f",
   "metadata": {},
   "outputs": [],
   "source": []
  }
 ],
 "metadata": {
  "kernelspec": {
   "display_name": "PySpark",
   "language": "python",
   "name": "pysparkkernel"
  },
  "language_info": {
   "codemirror_mode": {
    "name": "python",
    "version": 3
   },
   "file_extension": ".py",
   "mimetype": "text/x-python",
   "name": "pyspark",
   "pygments_lexer": "python3"
  }
 },
 "nbformat": 4,
 "nbformat_minor": 5
}
