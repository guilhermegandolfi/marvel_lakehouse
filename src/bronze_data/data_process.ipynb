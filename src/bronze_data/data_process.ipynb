{
 "cells": [
  {
   "cell_type": "code",
   "execution_count": 8,
   "id": "2751d041-3bba-4473-aa53-93abaa21ae57",
   "metadata": {},
   "outputs": [
    {
     "name": "stdout",
     "output_type": "stream",
     "text": [
      "Defaulting to user installation because normal site-packages is not writeable\n",
      "Requirement already satisfied: delta-spark==2.1.1 in /home/glue_user/.local/lib/python3.10/site-packages (2.1.1)\n",
      "Requirement already satisfied: importlib-metadata>=1.0.0 in /home/glue_user/.local/lib/python3.10/site-packages (from delta-spark==2.1.1) (6.6.0)\n",
      "Requirement already satisfied: pyspark<3.4.0,>=3.3.0 in /home/glue_user/.local/lib/python3.10/site-packages (from delta-spark==2.1.1) (3.3.2)\n",
      "Requirement already satisfied: zipp>=0.5 in /home/glue_user/.local/lib/python3.10/site-packages (from importlib-metadata>=1.0.0->delta-spark==2.1.1) (3.15.0)\n",
      "Requirement already satisfied: py4j==0.10.9.5 in /home/glue_user/.local/lib/python3.10/site-packages (from pyspark<3.4.0,>=3.3.0->delta-spark==2.1.1) (0.10.9.5)\n"
     ]
    },
    {
     "name": "stderr",
     "output_type": "stream",
     "text": [
      "\n",
      "[notice] A new release of pip available: 22.3.1 -> 23.1.2\n",
      "[notice] To update, run: python3 -m pip install --upgrade pip\n"
     ]
    }
   ],
   "source": [
    "%%sh\n",
    "pip install delta-spark==2.1.1"
   ]
  },
  {
   "cell_type": "code",
   "execution_count": 9,
   "id": "c18700d6-3af9-40dd-9602-49118b00eb54",
   "metadata": {},
   "outputs": [
    {
     "data": {
      "application/vnd.jupyter.widget-view+json": {
       "model_id": "",
       "version_major": 2,
       "version_minor": 0
      },
      "text/plain": [
       "FloatProgress(value=0.0, bar_style='info', description='Progress:', layout=Layout(height='25px', width='50%'),…"
      ]
     },
     "metadata": {},
     "output_type": "display_data"
    }
   ],
   "source": [
    "import pyspark\n",
    "from delta import *\n",
    "import json\n",
    "from pyspark.sql import SparkSession\n",
    "from pyspark.sql.types import *\n",
    "import json\n",
    "from pyspark.sql import types\n",
    "from delta import *\n",
    "from pyspark.sql.functions import *\n",
    "from delta.tables import *\n",
    "from pyspark.sql.functions import *\n",
    "from datetime import datetime"
   ]
  },
  {
   "cell_type": "code",
   "execution_count": 10,
   "id": "f38dd21d-13a2-4df5-9f5a-8f50e06006d7",
   "metadata": {},
   "outputs": [
    {
     "data": {
      "application/vnd.jupyter.widget-view+json": {
       "model_id": "",
       "version_major": 2,
       "version_minor": 0
      },
      "text/plain": [
       "FloatProgress(value=0.0, bar_style='info', description='Progress:', layout=Layout(height='25px', width='50%'),…"
      ]
     },
     "metadata": {},
     "output_type": "display_data"
    }
   ],
   "source": [
    "builder = pyspark.sql.SparkSession.builder.appName(\"MyApp\") \\\n",
    "    .config(\"spark.sql.extensions\", \"io.delta.sql.DeltaSparkSessionExtension\") \\\n",
    "    .config(\"spark.sql.catalog.spark_catalog\", \"org.apache.spark.sql.delta.catalog.DeltaCatalog\")\n",
    "\n",
    "spark = configure_spark_with_delta_pip(builder).getOrCreate()"
   ]
  },
  {
   "cell_type": "code",
   "execution_count": 11,
   "id": "6cb30af7-bd19-4d33-94b4-250669748209",
   "metadata": {},
   "outputs": [
    {
     "data": {
      "application/vnd.jupyter.widget-view+json": {
       "model_id": "",
       "version_major": 2,
       "version_minor": 0
      },
      "text/plain": [
       "FloatProgress(value=0.0, bar_style='info', description='Progress:', layout=Layout(height='25px', width='50%'),…"
      ]
     },
     "metadata": {},
     "output_type": "display_data"
    },
    {
     "name": "stdout",
     "output_type": "stream",
     "text": [
      "<pyspark.sql.session.SparkSession object at 0x7f492fc1f190>"
     ]
    }
   ],
   "source": [
    "print(spark)"
   ]
  },
  {
   "cell_type": "code",
   "execution_count": 12,
   "id": "03367f94-3a89-49a1-a540-a553b97b6621",
   "metadata": {},
   "outputs": [
    {
     "name": "stdout",
     "output_type": "stream",
     "text": [
      "characters.csv\n",
      "characters_to_Comics.csv\n",
      "charcters_stats.csv\n",
      "comics.csv\n",
      "delta\n",
      "marvel_characters_info.csv\n",
      "marvel_dc_characters.csv\n",
      "marvel_dc_characters.xlsx\n",
      "superheroes_power_matrix.csv\n"
     ]
    }
   ],
   "source": [
    "%%sh\n",
    "ls ../../data_set"
   ]
  },
  {
   "cell_type": "markdown",
   "id": "7a3e6df9-03b9-46ae-8b89-8d44d8fbb01d",
   "metadata": {},
   "source": [
    "#### Carregando dados a partir de um schema json"
   ]
  },
  {
   "cell_type": "code",
   "execution_count": 29,
   "id": "afdb5f88-a34d-44da-b3f9-2471b2af69ac",
   "metadata": {},
   "outputs": [
    {
     "data": {
      "application/vnd.jupyter.widget-view+json": {
       "model_id": "",
       "version_major": 2,
       "version_minor": 0
      },
      "text/plain": [
       "FloatProgress(value=0.0, bar_style='info', description='Progress:', layout=Layout(height='25px', width='50%'),…"
      ]
     },
     "metadata": {},
     "output_type": "display_data"
    }
   ],
   "source": [
    "nam_path='/home/glue_user/workspace/jupyter_workspace/data_set'\n",
    "json_path='/home/glue_user/workspace/jupyter_workspace/src/bronze_data/schemas'"
   ]
  },
  {
   "cell_type": "code",
   "execution_count": 30,
   "id": "c7dc4be7-a6c6-437b-8e95-8493438cb2f3",
   "metadata": {},
   "outputs": [
    {
     "data": {
      "application/vnd.jupyter.widget-view+json": {
       "model_id": "",
       "version_major": 2,
       "version_minor": 0
      },
      "text/plain": [
       "FloatProgress(value=0.0, bar_style='info', description='Progress:', layout=Layout(height='25px', width='50%'),…"
      ]
     },
     "metadata": {},
     "output_type": "display_data"
    }
   ],
   "source": [
    "nam_file='superheroes_power_matrix'\n",
    "bol_header=True"
   ]
  },
  {
   "cell_type": "code",
   "execution_count": 31,
   "id": "9a600eae-68ba-4d36-aa21-d2505e718b41",
   "metadata": {},
   "outputs": [
    {
     "data": {
      "application/vnd.jupyter.widget-view+json": {
       "model_id": "",
       "version_major": 2,
       "version_minor": 0
      },
      "text/plain": [
       "FloatProgress(value=0.0, bar_style='info', description='Progress:', layout=Layout(height='25px', width='50%'),…"
      ]
     },
     "metadata": {},
     "output_type": "display_data"
    }
   ],
   "source": [
    "with open(f\"{json_path}/{nam_file}.json\",'r') as f:\n",
    "    data = json.load(f)\n",
    "schemaFromJson = StructType.fromJson(data)"
   ]
  },
  {
   "cell_type": "code",
   "execution_count": 32,
   "id": "92784f97-3d5f-4a23-9f64-155308f688b2",
   "metadata": {},
   "outputs": [
    {
     "data": {
      "application/vnd.jupyter.widget-view+json": {
       "model_id": "",
       "version_major": 2,
       "version_minor": 0
      },
      "text/plain": [
       "FloatProgress(value=0.0, bar_style='info', description='Progress:', layout=Layout(height='25px', width='50%'),…"
      ]
     },
     "metadata": {},
     "output_type": "display_data"
    }
   ],
   "source": [
    "df=spark.read.csv(f\"{nam_path}/{nam_file}.csv\",header=True,schema=schemaFromJson)"
   ]
  },
  {
   "cell_type": "code",
   "execution_count": 33,
   "id": "59feee5d-b39b-4eac-9352-bdd3a028c439",
   "metadata": {},
   "outputs": [
    {
     "data": {
      "application/vnd.jupyter.widget-view+json": {
       "model_id": "",
       "version_major": 2,
       "version_minor": 0
      },
      "text/plain": [
       "FloatProgress(value=0.0, bar_style='info', description='Progress:', layout=Layout(height='25px', width='50%'),…"
      ]
     },
     "metadata": {},
     "output_type": "display_data"
    },
    {
     "name": "stdout",
     "output_type": "stream",
     "text": [
      "root\n",
      " |-- Name: string (nullable = true)\n",
      " |-- Agility: boolean (nullable = true)\n",
      " |-- Accelerated Healing: boolean (nullable = true)\n",
      " |-- Lantern Power Ring: boolean (nullable = true)\n",
      " |-- Dimensional Awareness: boolean (nullable = true)\n",
      " |-- Cold Resistance: boolean (nullable = true)\n",
      " |-- Durability: boolean (nullable = true)\n",
      " |-- Stealth: boolean (nullable = true)\n",
      " |-- Energy Absorption: boolean (nullable = true)\n",
      " |-- Flight: boolean (nullable = true)\n",
      " |-- Danger Sense: boolean (nullable = true)\n",
      " |-- Underwater breathing: boolean (nullable = true)\n",
      " |-- Marksmanship: boolean (nullable = true)\n",
      " |-- Weapons Master: boolean (nullable = true)\n",
      " |-- Power Augmentation: boolean (nullable = true)\n",
      " |-- Animal Attributes: boolean (nullable = true)\n",
      " |-- Longevity: boolean (nullable = true)\n",
      " |-- Intelligence: boolean (nullable = true)\n",
      " |-- Super Strength: boolean (nullable = true)\n",
      " |-- Cryokinesis: boolean (nullable = true)\n",
      " |-- Telepathy: boolean (nullable = true)\n",
      " |-- Energy Armor: boolean (nullable = true)\n",
      " |-- Energy Blasts: boolean (nullable = true)\n",
      " |-- Duplication: boolean (nullable = true)\n",
      " |-- Size Changing: boolean (nullable = true)\n",
      " |-- Density Control: boolean (nullable = true)\n",
      " |-- Stamina: boolean (nullable = true)\n",
      " |-- Astral Travel: boolean (nullable = true)\n",
      " |-- Audio Control: boolean (nullable = true)\n",
      " |-- Dexterity: boolean (nullable = true)\n",
      " |-- Omnitrix: boolean (nullable = true)\n",
      " |-- Super Speed: boolean (nullable = true)\n",
      " |-- Possession: boolean (nullable = true)\n",
      " |-- Animal Oriented Powers: boolean (nullable = true)\n",
      " |-- Weapon-based Powers: boolean (nullable = true)\n",
      " |-- Electrokinesis: boolean (nullable = true)\n",
      " |-- Darkforce Manipulation: boolean (nullable = true)\n",
      " |-- Death Touch: boolean (nullable = true)\n",
      " |-- Teleportation: boolean (nullable = true)\n",
      " |-- Enhanced Senses: boolean (nullable = true)\n",
      " |-- Telekinesis: boolean (nullable = true)\n",
      " |-- Energy Beams: boolean (nullable = true)\n",
      " |-- Magic: boolean (nullable = true)\n",
      " |-- Hyperkinesis: boolean (nullable = true)\n",
      " |-- Jump: boolean (nullable = true)\n",
      " |-- Clairvoyance: boolean (nullable = true)\n",
      " |-- Dimensional Travel: boolean (nullable = true)\n",
      " |-- Power Sense: boolean (nullable = true)\n",
      " |-- Shapeshifting: boolean (nullable = true)\n",
      " |-- Peak Human Condition: boolean (nullable = true)\n",
      " |-- Immortality: boolean (nullable = true)\n",
      " |-- Camouflage: boolean (nullable = true)\n",
      " |-- Element Control: boolean (nullable = true)\n",
      " |-- Phasing: boolean (nullable = true)\n",
      " |-- Astral Projection: boolean (nullable = true)\n",
      " |-- Electrical Transport: boolean (nullable = true)\n",
      " |-- Fire Control: boolean (nullable = true)\n",
      " |-- Projection: boolean (nullable = true)\n",
      " |-- Summoning: boolean (nullable = true)\n",
      " |-- Enhanced Memory: boolean (nullable = true)\n",
      " |-- Reflexes: boolean (nullable = true)\n",
      " |-- Invulnerability: boolean (nullable = true)\n",
      " |-- Energy Constructs: boolean (nullable = true)\n",
      " |-- Force Fields: boolean (nullable = true)\n",
      " |-- Self-Sustenance: boolean (nullable = true)\n",
      " |-- Anti-Gravity: boolean (nullable = true)\n",
      " |-- Empathy: boolean (nullable = true)\n",
      " |-- Power Nullifier: boolean (nullable = true)\n",
      " |-- Radiation Control: boolean (nullable = true)\n",
      " |-- Psionic Powers: boolean (nullable = true)\n",
      " |-- Elasticity: boolean (nullable = true)\n",
      " |-- Substance Secretion: boolean (nullable = true)\n",
      " |-- Elemental Transmogrification: boolean (nullable = true)\n",
      " |-- Technopath/Cyberpath: boolean (nullable = true)\n",
      " |-- Photographic Reflexes: boolean (nullable = true)\n",
      " |-- Seismic Power: boolean (nullable = true)\n",
      " |-- Animation: boolean (nullable = true)\n",
      " |-- Precognition: boolean (nullable = true)\n",
      " |-- Mind Control: boolean (nullable = true)\n",
      " |-- Fire Resistance: boolean (nullable = true)\n",
      " |-- Power Absorption: boolean (nullable = true)\n",
      " |-- Enhanced Hearing: boolean (nullable = true)\n",
      " |-- Nova Force: boolean (nullable = true)\n",
      " |-- Insanity: boolean (nullable = true)\n",
      " |-- Hypnokinesis: boolean (nullable = true)\n",
      " |-- Animal Control: boolean (nullable = true)\n",
      " |-- Natural Armor: boolean (nullable = true)\n",
      " |-- Intangibility: boolean (nullable = true)\n",
      " |-- Enhanced Sight: boolean (nullable = true)\n",
      " |-- Molecular Manipulation: boolean (nullable = true)\n",
      " |-- Heat Generation: boolean (nullable = true)\n",
      " |-- Adaptation: boolean (nullable = true)\n",
      " |-- Gliding: boolean (nullable = true)\n",
      " |-- Power Suit: boolean (nullable = true)\n",
      " |-- Mind Blast: boolean (nullable = true)\n",
      " |-- Probability Manipulation: boolean (nullable = true)\n",
      " |-- Gravity Control: boolean (nullable = true)\n",
      " |-- Regeneration: boolean (nullable = true)\n",
      " |-- Light Control: boolean (nullable = true)\n",
      " |-- Echolocation: boolean (nullable = true)\n",
      " |-- Levitation: boolean (nullable = true)\n",
      " |-- Toxin and Disease Control: boolean (nullable = true)\n",
      " |-- Banish: boolean (nullable = true)\n",
      " |-- Energy Manipulation: boolean (nullable = true)\n",
      " |-- Heat Resistance: boolean (nullable = true)\n",
      " |-- Natural Weapons: boolean (nullable = true)\n",
      " |-- Time Travel: boolean (nullable = true)\n",
      " |-- Enhanced Smell: boolean (nullable = true)\n",
      " |-- Illusions: boolean (nullable = true)\n",
      " |-- Thirstokinesis: boolean (nullable = true)\n",
      " |-- Hair Manipulation: boolean (nullable = true)\n",
      " |-- Illumination: boolean (nullable = true)\n",
      " |-- Omnipotent: boolean (nullable = true)\n",
      " |-- Cloaking: boolean (nullable = true)\n",
      " |-- Changing Armor: boolean (nullable = true)\n",
      " |-- Power Cosmic: boolean (nullable = true)\n",
      " |-- Biokinesis: boolean (nullable = true)\n",
      " |-- Water Control: boolean (nullable = true)\n",
      " |-- Radiation Immunity: boolean (nullable = true)\n",
      " |-- Vision - Telescopic: boolean (nullable = true)\n",
      " |-- Toxin and Disease Resistance: boolean (nullable = true)\n",
      " |-- Spatial Awareness: boolean (nullable = true)\n",
      " |-- Energy Resistance: boolean (nullable = true)\n",
      " |-- Telepathy Resistance: boolean (nullable = true)\n",
      " |-- Molecular Combustion: boolean (nullable = true)\n",
      " |-- Omnilingualism: boolean (nullable = true)\n",
      " |-- Portal Creation: boolean (nullable = true)\n",
      " |-- Magnetism: boolean (nullable = true)\n",
      " |-- Mind Control Resistance: boolean (nullable = true)\n",
      " |-- Plant Control: boolean (nullable = true)\n",
      " |-- Sonar: boolean (nullable = true)\n",
      " |-- Sonic Scream: boolean (nullable = true)\n",
      " |-- Time Manipulation: boolean (nullable = true)\n",
      " |-- Enhanced Touch: boolean (nullable = true)\n",
      " |-- Magic Resistance: boolean (nullable = true)\n",
      " |-- Invisibility: boolean (nullable = true)\n",
      " |-- Sub-Mariner: boolean (nullable = true)\n",
      " |-- Radiation Absorption: boolean (nullable = true)\n",
      " |-- Intuitive aptitude: boolean (nullable = true)\n",
      " |-- Vision - Microscopic: boolean (nullable = true)\n",
      " |-- Melting: boolean (nullable = true)\n",
      " |-- Wind Control: boolean (nullable = true)\n",
      " |-- Super Breath: boolean (nullable = true)\n",
      " |-- Wallcrawling: boolean (nullable = true)\n",
      " |-- Vision - Night: boolean (nullable = true)\n",
      " |-- Vision - Infrared: boolean (nullable = true)\n",
      " |-- Grim Reaping: boolean (nullable = true)\n",
      " |-- Matter Absorption: boolean (nullable = true)\n",
      " |-- The Force: boolean (nullable = true)\n",
      " |-- Resurrection: boolean (nullable = true)\n",
      " |-- Terrakinesis: boolean (nullable = true)\n",
      " |-- Vision - Heat: boolean (nullable = true)\n",
      " |-- Vitakinesis: boolean (nullable = true)\n",
      " |-- Radar Sense: boolean (nullable = true)\n",
      " |-- Qwardian Power Ring: boolean (nullable = true)\n",
      " |-- Weather Control: boolean (nullable = true)\n",
      " |-- Vision - X-Ray: boolean (nullable = true)\n",
      " |-- Vision - Thermal: boolean (nullable = true)\n",
      " |-- Web Creation: boolean (nullable = true)\n",
      " |-- Reality Warping: boolean (nullable = true)\n",
      " |-- Odin Force: boolean (nullable = true)\n",
      " |-- Symbiote Costume: boolean (nullable = true)\n",
      " |-- Speed Force: boolean (nullable = true)\n",
      " |-- Phoenix Force: boolean (nullable = true)\n",
      " |-- Molecular Dissipation: boolean (nullable = true)\n",
      " |-- Vision - Cryo: boolean (nullable = true)\n",
      " |-- Omnipresent: boolean (nullable = true)\n",
      " |-- Omniscient: boolean (nullable = true)"
     ]
    }
   ],
   "source": [
    "df.printSchema()"
   ]
  },
  {
   "cell_type": "code",
   "execution_count": 34,
   "id": "c3f045fc-30a1-4763-9e6c-be79b8da2d12",
   "metadata": {},
   "outputs": [
    {
     "data": {
      "application/vnd.jupyter.widget-view+json": {
       "model_id": "",
       "version_major": 2,
       "version_minor": 0
      },
      "text/plain": [
       "FloatProgress(value=0.0, bar_style='info', description='Progress:', layout=Layout(height='25px', width='50%'),…"
      ]
     },
     "metadata": {},
     "output_type": "display_data"
    },
    {
     "name": "stdout",
     "output_type": "stream",
     "text": [
      "+-------------+-------+-------------------+------------------+---------------------+---------------+----------+-------+-----------------+------+------------+--------------------+------------+--------------+------------------+-----------------+---------+------------+--------------+-----------+---------+------------+-------------+-----------+-------------+---------------+-------+-------------+-------------+---------+--------+-----------+----------+----------------------+-------------------+--------------+----------------------+-----------+-------------+---------------+-----------+------------+-----+------------+-----+------------+------------------+-----------+-------------+--------------------+-----------+----------+---------------+-------+-----------------+--------------------+------------+----------+---------+---------------+--------+---------------+-----------------+------------+---------------+------------+-------+---------------+-----------------+--------------+----------+-------------------+----------------------------+--------------------+---------------------+-------------+---------+------------+------------+---------------+----------------+----------------+----------+--------+------------+--------------+-------------+-------------+--------------+----------------------+---------------+----------+-------+----------+----------+------------------------+---------------+------------+-------------+------------+----------+-------------------------+------+-------------------+---------------+---------------+-----------+--------------+---------+--------------+-----------------+------------+----------+--------+--------------+------------+----------+-------------+------------------+-------------------+----------------------------+-----------------+-----------------+--------------------+--------------------+--------------+---------------+---------+-----------------------+-------------+-----+------------+-----------------+--------------+----------------+------------+-----------+--------------------+------------------+--------------------+-------+------------+------------+------------+--------------+-----------------+------------+-----------------+---------+------------+------------+-------------+-----------+-----------+-------------------+---------------+--------------+----------------+------------+---------------+----------+----------------+-----------+-------------+---------------------+-------------+-----------+----------+\n",
      "|Name         |Agility|Accelerated Healing|Lantern Power Ring|Dimensional Awareness|Cold Resistance|Durability|Stealth|Energy Absorption|Flight|Danger Sense|Underwater breathing|Marksmanship|Weapons Master|Power Augmentation|Animal Attributes|Longevity|Intelligence|Super Strength|Cryokinesis|Telepathy|Energy Armor|Energy Blasts|Duplication|Size Changing|Density Control|Stamina|Astral Travel|Audio Control|Dexterity|Omnitrix|Super Speed|Possession|Animal Oriented Powers|Weapon-based Powers|Electrokinesis|Darkforce Manipulation|Death Touch|Teleportation|Enhanced Senses|Telekinesis|Energy Beams|Magic|Hyperkinesis|Jump |Clairvoyance|Dimensional Travel|Power Sense|Shapeshifting|Peak Human Condition|Immortality|Camouflage|Element Control|Phasing|Astral Projection|Electrical Transport|Fire Control|Projection|Summoning|Enhanced Memory|Reflexes|Invulnerability|Energy Constructs|Force Fields|Self-Sustenance|Anti-Gravity|Empathy|Power Nullifier|Radiation Control|Psionic Powers|Elasticity|Substance Secretion|Elemental Transmogrification|Technopath/Cyberpath|Photographic Reflexes|Seismic Power|Animation|Precognition|Mind Control|Fire Resistance|Power Absorption|Enhanced Hearing|Nova Force|Insanity|Hypnokinesis|Animal Control|Natural Armor|Intangibility|Enhanced Sight|Molecular Manipulation|Heat Generation|Adaptation|Gliding|Power Suit|Mind Blast|Probability Manipulation|Gravity Control|Regeneration|Light Control|Echolocation|Levitation|Toxin and Disease Control|Banish|Energy Manipulation|Heat Resistance|Natural Weapons|Time Travel|Enhanced Smell|Illusions|Thirstokinesis|Hair Manipulation|Illumination|Omnipotent|Cloaking|Changing Armor|Power Cosmic|Biokinesis|Water Control|Radiation Immunity|Vision - Telescopic|Toxin and Disease Resistance|Spatial Awareness|Energy Resistance|Telepathy Resistance|Molecular Combustion|Omnilingualism|Portal Creation|Magnetism|Mind Control Resistance|Plant Control|Sonar|Sonic Scream|Time Manipulation|Enhanced Touch|Magic Resistance|Invisibility|Sub-Mariner|Radiation Absorption|Intuitive aptitude|Vision - Microscopic|Melting|Wind Control|Super Breath|Wallcrawling|Vision - Night|Vision - Infrared|Grim Reaping|Matter Absorption|The Force|Resurrection|Terrakinesis|Vision - Heat|Vitakinesis|Radar Sense|Qwardian Power Ring|Weather Control|Vision - X-Ray|Vision - Thermal|Web Creation|Reality Warping|Odin Force|Symbiote Costume|Speed Force|Phoenix Force|Molecular Dissipation|Vision - Cryo|Omnipresent|Omniscient|\n",
      "+-------------+-------+-------------------+------------------+---------------------+---------------+----------+-------+-----------------+------+------------+--------------------+------------+--------------+------------------+-----------------+---------+------------+--------------+-----------+---------+------------+-------------+-----------+-------------+---------------+-------+-------------+-------------+---------+--------+-----------+----------+----------------------+-------------------+--------------+----------------------+-----------+-------------+---------------+-----------+------------+-----+------------+-----+------------+------------------+-----------+-------------+--------------------+-----------+----------+---------------+-------+-----------------+--------------------+------------+----------+---------+---------------+--------+---------------+-----------------+------------+---------------+------------+-------+---------------+-----------------+--------------+----------+-------------------+----------------------------+--------------------+---------------------+-------------+---------+------------+------------+---------------+----------------+----------------+----------+--------+------------+--------------+-------------+-------------+--------------+----------------------+---------------+----------+-------+----------+----------+------------------------+---------------+------------+-------------+------------+----------+-------------------------+------+-------------------+---------------+---------------+-----------+--------------+---------+--------------+-----------------+------------+----------+--------+--------------+------------+----------+-------------+------------------+-------------------+----------------------------+-----------------+-----------------+--------------------+--------------------+--------------+---------------+---------+-----------------------+-------------+-----+------------+-----------------+--------------+----------------+------------+-----------+--------------------+------------------+--------------------+-------+------------+------------+------------+--------------+-----------------+------------+-----------------+---------+------------+------------+-------------+-----------+-----------+-------------------+---------------+--------------+----------------+------------+---------------+----------+----------------+-----------+-------------+---------------------+-------------+-----------+----------+\n",
      "|3-D Man      |true   |false              |false             |false                |false          |false     |false  |false            |false |false       |false               |false       |false         |false             |false            |false    |false       |true          |false      |false    |false       |false        |false      |false        |false          |true   |false        |false        |false    |false   |true       |false     |false                 |false              |false         |false                 |false      |false        |false          |false      |false       |false|false       |false|false       |false             |false      |false        |false               |false      |false     |false          |false  |false            |false               |false       |false     |false    |false          |false   |false          |false            |false       |false          |false       |false  |false          |false            |false         |false     |false              |false                       |false               |false                |false        |false    |false       |false       |false          |false           |false           |false     |false   |false       |false         |false        |false        |false         |false                 |false          |false     |false  |false     |false     |false                   |false          |false       |false        |false       |false     |false                    |false |false              |false          |false          |false      |false         |false    |false         |false            |false       |false     |false   |false         |false       |false     |false        |false             |false              |false                       |false            |false            |false               |false               |false         |false          |false    |false                  |false        |false|false       |false            |false         |false           |false       |false      |false               |false             |false               |false  |false       |false       |false       |false         |false            |false       |false            |false    |false       |false       |false        |false      |false      |false              |false          |false         |false           |false       |false          |false     |false           |false      |false        |false                |false        |false      |false     |\n",
      "|A-Bomb       |false  |true               |false             |false                |false          |true      |false  |false            |false |false       |false               |false       |false         |false             |false            |true     |false       |true          |false      |false    |false       |false        |false      |false        |false          |true   |false        |false        |false    |false   |false      |false     |false                 |false              |false         |false                 |false      |false        |false          |false      |false       |false|false       |false|false       |false             |false      |false        |false               |false      |true      |false          |false  |false            |false               |false       |false     |false    |false          |false   |false          |false            |false       |true           |false       |false  |false          |false            |false         |false     |false              |false                       |false               |false                |false        |false    |false       |false       |false          |false           |false           |false     |false   |false       |false         |false        |false        |false         |false                 |false          |false     |false  |false     |false     |false                   |false          |false       |false        |false       |false     |false                    |false |false              |false          |false          |false      |false         |false    |false         |false            |false       |false     |false   |false         |false       |false     |false        |false             |false              |false                       |false            |false            |false               |false               |false         |false          |false    |false                  |false        |false|false       |false            |false         |false           |false       |false      |false               |false             |false               |false  |false       |false       |false       |false         |false            |false       |false            |false    |false       |false       |false        |false      |false      |false              |false          |false         |false           |false       |false          |false     |false           |false      |false        |false                |false        |false      |false     |\n",
      "|Abe Sapien   |true   |true               |false             |false                |true           |true      |false  |false            |false |false       |true                |true        |true          |false             |false            |true     |true        |true          |false      |true     |false       |false        |false      |false        |false          |true   |false        |false        |false    |false   |false      |false     |false                 |false              |false         |false                 |false      |false        |false          |false      |false       |false|false       |false|false       |false             |false      |false        |false               |true       |false     |false          |false  |false            |false               |false       |false     |false    |false          |true    |false          |false            |false       |false          |false       |false  |false          |false            |false         |false     |false              |false                       |false               |false                |false        |false    |false       |false       |false          |false           |false           |false     |false   |false       |false         |false        |false        |true          |false                 |false          |false     |false  |false     |false     |false                   |false          |false       |false        |false       |false     |false                    |false |false              |false          |false          |false      |false         |false    |false         |false            |false       |false     |false   |false         |false       |false     |false        |false             |false              |false                       |false            |false            |false               |false               |false         |false          |false    |false                  |false        |false|false       |false            |false         |false           |false       |true       |false               |false             |false               |false  |false       |false       |false       |false         |false            |false       |false            |false    |false       |false       |false        |false      |false      |false              |false          |false         |false           |false       |false          |false     |false           |false      |false        |false                |false        |false      |false     |\n",
      "|Abin Sur     |false  |false              |true              |false                |false          |false     |false  |false            |false |false       |false               |false       |false         |false             |false            |false    |false       |false         |false      |false    |false       |false        |false      |false        |false          |false  |false        |false        |false    |false   |false      |false     |false                 |false              |false         |false                 |false      |false        |false          |false      |false       |false|false       |false|false       |false             |false      |false        |false               |false      |false     |false          |false  |false            |false               |false       |false     |false    |false          |false   |false          |false            |false       |false          |false       |false  |false          |false            |false         |false     |false              |false                       |false               |false                |false        |false    |false       |false       |false          |false           |false           |false     |false   |false       |false         |false        |false        |false         |false                 |false          |false     |false  |false     |false     |false                   |false          |false       |false        |false       |false     |false                    |false |false              |false          |false          |false      |false         |false    |false         |false            |false       |false     |false   |false         |false       |false     |false        |false             |false              |false                       |false            |false            |false               |false               |false         |false          |false    |false                  |false        |false|false       |false            |false         |false           |false       |false      |false               |false             |false               |false  |false       |false       |false       |false         |false            |false       |false            |false    |false       |false       |false        |false      |false      |false              |false          |false         |false           |false       |false          |false     |false           |false      |false        |false                |false        |false      |false     |\n",
      "|Abomination  |false  |true               |false             |false                |false          |false     |false  |false            |false |false       |false               |false       |false         |false             |false            |false    |true        |true          |false      |false    |false       |false        |false      |false        |false          |true   |false        |false        |false    |false   |true       |false     |false                 |false              |false         |false                 |false      |false        |false          |false      |false       |false|false       |false|false       |false             |false      |false        |false               |false      |false     |false          |false  |false            |false               |false       |false     |false    |false          |false   |true           |false            |false       |false          |false       |false  |false          |false            |false         |false     |false              |false                       |false               |false                |false        |true     |false       |false       |false          |false           |false           |false     |false   |false       |false         |false        |false        |false         |false                 |false          |false     |false  |false     |false     |false                   |false          |false       |false        |false       |false     |false                    |false |false              |false          |false          |false      |false         |false    |false         |false            |false       |false     |false   |false         |false       |false     |false        |false             |false              |false                       |false            |false            |false               |false               |false         |false          |false    |false                  |false        |false|false       |false            |false         |false           |false       |false      |false               |false             |false               |false  |false       |true        |false       |false         |false            |false       |false            |false    |false       |false       |false        |false      |false      |false              |false          |false         |false           |false       |false          |false     |false           |false      |false        |false                |false        |false      |false     |\n",
      "|Abraxas      |false  |false              |false             |true                 |false          |false     |false  |false            |true  |false       |false               |false       |false         |false             |false            |false    |true        |true          |false      |false    |false       |false        |false      |true         |false          |false  |false        |false        |false    |false   |true       |false     |false                 |false              |false         |false                 |false      |true         |false          |false      |false       |true |false       |false|false       |true              |false      |false        |false               |true       |false     |false          |false  |false            |false               |false       |false     |false    |false          |false   |true           |false            |false       |false          |false       |false  |false          |false            |false         |false     |false              |false                       |false               |false                |false        |false    |false       |false       |false          |false           |false           |false     |false   |false       |false         |false        |false        |false         |true                  |false          |false     |false  |false     |false     |false                   |false          |false       |false        |false       |false     |false                    |false |true               |false          |false          |false      |false         |false    |false         |false            |false       |false     |false   |false         |true        |false     |false        |false             |false              |false                       |false            |false            |false               |false               |false         |false          |false    |false                  |false        |false|false       |false            |false         |false           |false       |false      |false               |false             |false               |false  |false       |false       |false       |false         |false            |false       |false            |false    |false       |false       |false        |false      |false      |false              |false          |false         |false           |false       |false          |false     |false           |false      |false        |false                |false        |false      |false     |\n",
      "|Absorbing Man|false  |false              |false             |false                |true           |true      |false  |true             |false |false       |false               |false       |false         |false             |false            |false    |false       |true          |false      |false    |false       |false        |false      |false        |false          |false  |false        |false        |false    |false   |false      |false     |false                 |false              |false         |false                 |false      |false        |false          |false      |false       |false|false       |false|false       |false             |false      |false        |false               |false      |false     |false          |false  |false            |false               |false       |false     |false    |false          |false   |true           |false            |false       |false          |false       |false  |false          |false            |false         |false     |false              |true                        |false               |false                |false        |false    |false       |false       |true           |false           |false           |false     |false   |false       |false         |true         |false        |false         |true                  |false          |false     |false  |false     |false     |false                   |false          |false       |false        |false       |false     |false                    |false |false              |true           |false          |false      |false         |false    |false         |false            |false       |false     |false   |false         |false       |false     |false        |false             |false              |false                       |false            |false            |false               |false               |false         |false          |false    |false                  |false        |false|false       |false            |false         |false           |false       |false      |false               |false             |false               |false  |false       |false       |false       |false         |false            |false       |true             |false    |false       |false       |false        |false      |false      |false              |false          |false         |false           |false       |false          |false     |false           |false      |false        |false                |false        |false      |false     |\n",
      "|Adam Monroe  |false  |true               |false             |false                |false          |false     |false  |false            |false |false       |false               |false       |false         |false             |false            |false    |false       |false         |false      |false    |false       |false        |false      |false        |false          |false  |false        |false        |false    |false   |false      |false     |false                 |false              |false         |false                 |false      |false        |false          |false      |false       |false|false       |false|false       |false             |false      |false        |false               |true       |false     |false          |false  |false            |false               |false       |false     |false    |false          |false   |false          |false            |false       |false          |false       |false  |false          |false            |false         |false     |false              |false                       |false               |false                |false        |false    |false       |false       |false          |false           |false           |false     |false   |false       |false         |false        |false        |false         |false                 |false          |false     |false  |false     |false     |false                   |false          |true        |false        |false       |false     |false                    |false |false              |false          |false          |false      |false         |false    |false         |false            |false       |false     |false   |false         |false       |false     |false        |false             |false              |false                       |false            |false            |false               |false               |false         |false          |false    |false                  |false        |false|false       |false            |false         |false           |false       |false      |false               |false             |false               |false  |false       |false       |false       |false         |false            |false       |false            |false    |false       |false       |false        |false      |false      |false              |false          |false         |false           |false       |false          |false     |false           |false      |false        |false                |false        |false      |false     |\n",
      "|Adam Strange |false  |false              |false             |false                |false          |true      |true   |false            |true  |false       |false               |true        |true          |false             |false            |false    |true        |false         |false      |false    |false       |false        |false      |false        |false          |false  |false        |false        |false    |false   |true       |false     |false                 |false              |false         |false                 |false      |false        |false          |false      |false       |false|false       |false|false       |false             |false      |false        |false               |false      |false     |false          |false  |false            |false               |false       |false     |false    |false          |false   |false          |false            |false       |false          |false       |false  |false          |false            |false         |false     |false              |false                       |false               |false                |false        |false    |false       |false       |true           |false           |false           |false     |false   |false       |false         |false        |false        |true          |false                 |false          |false     |false  |true      |false     |false                   |false          |false       |false        |false       |false     |false                    |false |false              |false          |false          |false      |false         |false    |false         |false            |false       |false     |false   |false         |false       |false     |false        |false             |false              |false                       |false            |false            |false               |false               |false         |false          |false    |false                  |false        |false|false       |false            |false         |false           |false       |false      |false               |false             |false               |false  |false       |false       |false       |false         |false            |false       |false            |false    |false       |false       |false        |false      |false      |false              |false          |false         |false           |false       |false          |false     |false           |false      |false        |false                |false        |false      |false     |\n",
      "|Agent Bob    |false  |false              |false             |false                |false          |false     |true   |false            |false |false       |false               |false       |false         |false             |false            |false    |false       |false         |false      |false    |false       |false        |false      |false        |false          |false  |false        |false        |false    |false   |false      |false     |false                 |false              |false         |false                 |false      |false        |false          |false      |false       |false|false       |false|false       |false             |false      |false        |false               |false      |false     |false          |false  |false            |false               |false       |false     |false    |false          |false   |false          |false            |false       |false          |false       |false  |false          |false            |false         |false     |false              |false                       |false               |false                |false        |false    |false       |false       |false          |false           |false           |false     |false   |false       |false         |false        |false        |false         |false                 |false          |false     |false  |false     |false     |false                   |false          |false       |false        |false       |false     |false                    |false |false              |false          |false          |false      |false         |false    |false         |false            |false       |false     |false   |false         |false       |false     |false        |false             |false              |false                       |false            |false            |false               |false               |false         |false          |false    |false                  |false        |false|false       |false            |false         |false           |false       |false      |false               |false             |false               |false  |false       |false       |false       |false         |false            |false       |false            |false    |false       |false       |false        |false      |false      |false              |false          |false         |false           |false       |false          |false     |false           |false      |false        |false                |false        |false      |false     |\n",
      "+-------------+-------+-------------------+------------------+---------------------+---------------+----------+-------+-----------------+------+------------+--------------------+------------+--------------+------------------+-----------------+---------+------------+--------------+-----------+---------+------------+-------------+-----------+-------------+---------------+-------+-------------+-------------+---------+--------+-----------+----------+----------------------+-------------------+--------------+----------------------+-----------+-------------+---------------+-----------+------------+-----+------------+-----+------------+------------------+-----------+-------------+--------------------+-----------+----------+---------------+-------+-----------------+--------------------+------------+----------+---------+---------------+--------+---------------+-----------------+------------+---------------+------------+-------+---------------+-----------------+--------------+----------+-------------------+----------------------------+--------------------+---------------------+-------------+---------+------------+------------+---------------+----------------+----------------+----------+--------+------------+--------------+-------------+-------------+--------------+----------------------+---------------+----------+-------+----------+----------+------------------------+---------------+------------+-------------+------------+----------+-------------------------+------+-------------------+---------------+---------------+-----------+--------------+---------+--------------+-----------------+------------+----------+--------+--------------+------------+----------+-------------+------------------+-------------------+----------------------------+-----------------+-----------------+--------------------+--------------------+--------------+---------------+---------+-----------------------+-------------+-----+------------+-----------------+--------------+----------------+------------+-----------+--------------------+------------------+--------------------+-------+------------+------------+------------+--------------+-----------------+------------+-----------------+---------+------------+------------+-------------+-----------+-----------+-------------------+---------------+--------------+----------------+------------+---------------+----------+----------------+-----------+-------------+---------------------+-------------+-----------+----------+\n",
      "only showing top 10 rows"
     ]
    }
   ],
   "source": [
    "df.show(10, truncate=False)"
   ]
  },
  {
   "cell_type": "code",
   "execution_count": 41,
   "id": "bba2daa5-0985-423e-9113-44d199c8c77f",
   "metadata": {},
   "outputs": [
    {
     "data": {
      "application/vnd.jupyter.widget-view+json": {
       "model_id": "",
       "version_major": 2,
       "version_minor": 0
      },
      "text/plain": [
       "FloatProgress(value=0.0, bar_style='info', description='Progress:', layout=Layout(height='25px', width='50%'),…"
      ]
     },
     "metadata": {},
     "output_type": "display_data"
    }
   ],
   "source": [
    "def load_df_with_schema(nam_file, desc_schema):\n",
    "    with open(desc_schema,'r') as f:\n",
    "        data = json.load(f)\n",
    "    schemaFromJson = StructType.fromJson(data)\n",
    "    df=spark.read.csv(nam_file,header=True,schema=schemaFromJson)\n",
    "    return df"
   ]
  },
  {
   "cell_type": "code",
   "execution_count": 42,
   "id": "29127333-78c7-4c0d-ba32-3b1a7be40fee",
   "metadata": {},
   "outputs": [
    {
     "data": {
      "application/vnd.jupyter.widget-view+json": {
       "model_id": "",
       "version_major": 2,
       "version_minor": 0
      },
      "text/plain": [
       "FloatProgress(value=0.0, bar_style='info', description='Progress:', layout=Layout(height='25px', width='50%'),…"
      ]
     },
     "metadata": {},
     "output_type": "display_data"
    }
   ],
   "source": [
    "nam_path='/home/glue_user/workspace/jupyter_workspace/data_set'\n",
    "json_path='/home/glue_user/workspace/jupyter_workspace/src/bronze_data/schemas'\n",
    "nam_file='comics'"
   ]
  },
  {
   "cell_type": "code",
   "execution_count": 75,
   "id": "f5dc1027-2b83-4c4c-9b0d-b7474be163d7",
   "metadata": {},
   "outputs": [
    {
     "data": {
      "application/vnd.jupyter.widget-view+json": {
       "model_id": "",
       "version_major": 2,
       "version_minor": 0
      },
      "text/plain": [
       "FloatProgress(value=0.0, bar_style='info', description='Progress:', layout=Layout(height='25px', width='50%'),…"
      ]
     },
     "metadata": {},
     "output_type": "display_data"
    }
   ],
   "source": [
    "df=load_df_with_schema(f\"{nam_path}/{nam_file}.csv\",f\"{json_path}/{nam_file}.json\")"
   ]
  },
  {
   "cell_type": "code",
   "execution_count": 76,
   "id": "10a0c986-6f85-496d-9196-3cc14f075793",
   "metadata": {},
   "outputs": [
    {
     "data": {
      "application/vnd.jupyter.widget-view+json": {
       "model_id": "",
       "version_major": 2,
       "version_minor": 0
      },
      "text/plain": [
       "FloatProgress(value=0.0, bar_style='info', description='Progress:', layout=Layout(height='25px', width='50%'),…"
      ]
     },
     "metadata": {},
     "output_type": "display_data"
    },
    {
     "name": "stdout",
     "output_type": "stream",
     "text": [
      "root\n",
      " |-- comicID: integer (nullable = true)\n",
      " |-- title: string (nullable = true)\n",
      " |-- issueNumber: integer (nullable = true)\n",
      " |-- description: string (nullable = true)"
     ]
    }
   ],
   "source": [
    "df.printSchema()"
   ]
  },
  {
   "cell_type": "code",
   "execution_count": 45,
   "id": "704f114f-62e4-4029-ae17-295a9f679e5f",
   "metadata": {},
   "outputs": [
    {
     "data": {
      "application/vnd.jupyter.widget-view+json": {
       "model_id": "",
       "version_major": 2,
       "version_minor": 0
      },
      "text/plain": [
       "FloatProgress(value=0.0, bar_style='info', description='Progress:', layout=Layout(height='25px', width='50%'),…"
      ]
     },
     "metadata": {},
     "output_type": "display_data"
    },
    {
     "name": "stdout",
     "output_type": "stream",
     "text": [
      "+-------+----------------------------------------------------------------------------------+-----------+----------------------------------------------------------------------------------------------------------------------------------------------------------------------------------------------------------------------------------------------------------------------------------------------------------------------------------------------------------------------------------------------------------------------------------------------+\n",
      "|comicID|title                                                                             |issueNumber|description                                                                                                                                                                                                                                                                                                                                                                                                                                   |\n",
      "+-------+----------------------------------------------------------------------------------+-----------+----------------------------------------------------------------------------------------------------------------------------------------------------------------------------------------------------------------------------------------------------------------------------------------------------------------------------------------------------------------------------------------------------------------------------------------------+\n",
      "|16232  |Cap Transport (2005) #12                                                          |12         |null                                                                                                                                                                                                                                                                                                                                                                                                                                          |\n",
      "|16248  |Cap Transport (2005) #9                                                           |9          |null                                                                                                                                                                                                                                                                                                                                                                                                                                          |\n",
      "|4990   |Halo Preview (2006)                                                               |0          |null                                                                                                                                                                                                                                                                                                                                                                                                                                          |\n",
      "|21486  |Ultimate X-Men (Spanish Language Edition) (2000) #9                               |9          |null                                                                                                                                                                                                                                                                                                                                                                                                                                          |\n",
      "|58634  |A Year of Marvels: The Incredible (2016) #5                                       |5          |It’s Halloween in the Marvel U! What does that mean for KATE BISHOP, A.K.A. HAWKEYE? Well, I can’t tell you here but I CAN guarantee it involves a haunted house, some witty one-liners, and a bad guy shot full of arrows… Then it’s time to give thanks for…THE PUNISHER?! When an op goes south, Frank Castle finds himself in a subterranean game of cat and mouse! It’s a life or death tale that’ll satisfy more than any turkey dinner!|\n",
      "|37534  |Magician: Apprentice Riftwar Saga (2010) #17                                      |17         |The electrifying conclusion to Raymond E. Feist's epic story! The only thing standing between Crydee and complete destruction is Princess Carline. Can she save Midkemia?                                                                                                                                                                                                                                                                     |\n",
      "|58586  |The Amazing Spider-Man (2015) #19 (Veregge Black Panther 50th Anniversary Variant)|19         |null                                                                                                                                                                                                                                                                                                                                                                                                                                          |\n",
      "|16241  |Cap Transport (2005) #20                                                          |20         |null                                                                                                                                                                                                                                                                                                                                                                                                                                          |\n",
      "|25320  |Halo Chronicles (2009) #1                                                         |1          |null                                                                                                                                                                                                                                                                                                                                                                                                                                          |\n",
      "|21479  |Ultimate X-Men (Spanish Language Edition) (2000) #1                               |1          |null                                                                                                                                                                                                                                                                                                                                                                                                                                          |\n",
      "+-------+----------------------------------------------------------------------------------+-----------+----------------------------------------------------------------------------------------------------------------------------------------------------------------------------------------------------------------------------------------------------------------------------------------------------------------------------------------------------------------------------------------------------------------------------------------------+\n",
      "only showing top 10 rows"
     ]
    }
   ],
   "source": [
    "df.show(10, truncate=False)"
   ]
  },
  {
   "cell_type": "markdown",
   "id": "e586acfb-ff6f-45fb-8bae-4b363391c9d3",
   "metadata": {},
   "source": [
    "#### Inclusao de data atual "
   ]
  },
  {
   "cell_type": "code",
   "execution_count": 59,
   "id": "a81a7632-ddef-410a-b462-79cfaae59aef",
   "metadata": {},
   "outputs": [
    {
     "data": {
      "application/vnd.jupyter.widget-view+json": {
       "model_id": "",
       "version_major": 2,
       "version_minor": 0
      },
      "text/plain": [
       "FloatProgress(value=0.0, bar_style='info', description='Progress:', layout=Layout(height='25px', width='50%'),…"
      ]
     },
     "metadata": {},
     "output_type": "display_data"
    }
   ],
   "source": [
    "dat_load=datetime.now()\n",
    "dat_load=dat_load.strftime('%Y%m%d_%H:%m:%S')\n",
    "df=df.withColumn('dat_load',lit(dat_load))"
   ]
  },
  {
   "cell_type": "markdown",
   "id": "26aac278-667b-4274-b3d4-92de9ae344a6",
   "metadata": {},
   "source": [
    "#### Salvando arquivo delta"
   ]
  },
  {
   "cell_type": "code",
   "execution_count": 63,
   "id": "ccd8a9b1-f057-4c93-b17e-a626c743e913",
   "metadata": {},
   "outputs": [
    {
     "data": {
      "application/vnd.jupyter.widget-view+json": {
       "model_id": "",
       "version_major": 2,
       "version_minor": 0
      },
      "text/plain": [
       "FloatProgress(value=0.0, bar_style='info', description='Progress:', layout=Layout(height='25px', width='50%'),…"
      ]
     },
     "metadata": {},
     "output_type": "display_data"
    }
   ],
   "source": [
    "df.write.format(\"delta\").mode(\"overwrite\").save(f\"{nam_path}/delta/{nam_file}\")"
   ]
  },
  {
   "cell_type": "markdown",
   "id": "d843c6e7-a676-4182-9431-ecdb9fa13e53",
   "metadata": {},
   "source": [
    "#### Verificar path no s3import boto3"
   ]
  },
  {
   "cell_type": "code",
   "execution_count": 65,
   "id": "bca42005-4642-4554-b495-fe916d4e15a1",
   "metadata": {},
   "outputs": [
    {
     "data": {
      "application/vnd.jupyter.widget-view+json": {
       "model_id": "",
       "version_major": 2,
       "version_minor": 0
      },
      "text/plain": [
       "FloatProgress(value=0.0, bar_style='info', description='Progress:', layout=Layout(height='25px', width='50%'),…"
      ]
     },
     "metadata": {},
     "output_type": "display_data"
    }
   ],
   "source": [
    "import boto3\n",
    "\n",
    "s3 = boto3.client('s3')"
   ]
  },
  {
   "cell_type": "code",
   "execution_count": 67,
   "id": "3d332029-474a-4467-b3f6-013798107f72",
   "metadata": {},
   "outputs": [
    {
     "data": {
      "application/vnd.jupyter.widget-view+json": {
       "model_id": "",
       "version_major": 2,
       "version_minor": 0
      },
      "text/plain": [
       "FloatProgress(value=0.0, bar_style='info', description='Progress:', layout=Layout(height='25px', width='50%'),…"
      ]
     },
     "metadata": {},
     "output_type": "display_data"
    }
   ],
   "source": [
    "nam_bucket='marvel-bronze-dev'\n",
    "nam_table='characters'"
   ]
  },
  {
   "cell_type": "code",
   "execution_count": 68,
   "id": "14ab328d-1196-4a98-846c-949259ae20f7",
   "metadata": {},
   "outputs": [
    {
     "data": {
      "application/vnd.jupyter.widget-view+json": {
       "model_id": "",
       "version_major": 2,
       "version_minor": 0
      },
      "text/plain": [
       "FloatProgress(value=0.0, bar_style='info', description='Progress:', layout=Layout(height='25px', width='50%'),…"
      ]
     },
     "metadata": {},
     "output_type": "display_data"
    },
    {
     "name": "stdout",
     "output_type": "stream",
     "text": [
      "existe prefixo"
     ]
    }
   ],
   "source": [
    "response = s3.list_objects_v2(Bucket=nam_bucket, Prefix=nam_table)\n",
    "if response['KeyCount']>1:\n",
    "    print('existe prefixo')\n",
    "else:\n",
    "    print('nao existe prefixo')"
   ]
  },
  {
   "cell_type": "markdown",
   "id": "fecfddd1-24ee-481b-aa04-41a841fa2e9e",
   "metadata": {},
   "source": [
    "#### Update da tabela "
   ]
  },
  {
   "cell_type": "code",
   "execution_count": 77,
   "id": "22627a59-cafb-440e-b216-cc0ae1c02015",
   "metadata": {},
   "outputs": [
    {
     "data": {
      "application/vnd.jupyter.widget-view+json": {
       "model_id": "",
       "version_major": 2,
       "version_minor": 0
      },
      "text/plain": [
       "FloatProgress(value=0.0, bar_style='info', description='Progress:', layout=Layout(height='25px', width='50%'),…"
      ]
     },
     "metadata": {},
     "output_type": "display_data"
    }
   ],
   "source": [
    "deltaTable = DeltaTable.forPath(spark, f\"{nam_path}/delta/{nam_file}\")"
   ]
  },
  {
   "cell_type": "code",
   "execution_count": 79,
   "id": "9fb26be8-5c00-4480-bd5b-3a5f24748bbe",
   "metadata": {},
   "outputs": [
    {
     "data": {
      "application/vnd.jupyter.widget-view+json": {
       "model_id": "",
       "version_major": 2,
       "version_minor": 0
      },
      "text/plain": [
       "FloatProgress(value=0.0, bar_style='info', description='Progress:', layout=Layout(height='25px', width='50%'),…"
      ]
     },
     "metadata": {},
     "output_type": "display_data"
    },
    {
     "name": "stderr",
     "output_type": "stream",
     "text": [
      "An error was encountered:\n",
      "'DeltaTable' object has no attribute 'to_df'\n",
      "Traceback (most recent call last):\n",
      "AttributeError: 'DeltaTable' object has no attribute 'to_df'\n",
      "\n"
     ]
    }
   ],
   "source": [
    "deltaTable.to_df()"
   ]
  },
  {
   "cell_type": "code",
   "execution_count": 78,
   "id": "cc47c8c0-9f12-41f1-9b12-67041082c4aa",
   "metadata": {},
   "outputs": [
    {
     "data": {
      "application/vnd.jupyter.widget-view+json": {
       "model_id": "",
       "version_major": 2,
       "version_minor": 0
      },
      "text/plain": [
       "FloatProgress(value=0.0, bar_style='info', description='Progress:', layout=Layout(height='25px', width='50%'),…"
      ]
     },
     "metadata": {},
     "output_type": "display_data"
    },
    {
     "name": "stderr",
     "output_type": "stream",
     "text": [
      "An error was encountered:\n",
      "cannot resolve dat_load in UPDATE clause given columns newData.comicID, newData.title, newData.issueNumber, newData.description\n",
      "Traceback (most recent call last):\n",
      "  File \"/home/glue_user/.local/lib/python3.10/site-packages/delta/tables.py\", line 924, in execute\n",
      "    self._jbuilder.execute()\n",
      "  File \"/home/glue_user/spark/python/lib/py4j-0.10.9.5-src.zip/py4j/java_gateway.py\", line 1321, in __call__\n",
      "    return_value = get_return_value(\n",
      "  File \"/home/glue_user/spark/python/pyspark/sql/utils.py\", line 196, in deco\n",
      "    raise converted from None\n",
      "pyspark.sql.utils.AnalysisException: cannot resolve dat_load in UPDATE clause given columns newData.comicID, newData.title, newData.issueNumber, newData.description\n",
      "\n"
     ]
    }
   ],
   "source": [
    "deltaTable.alias(\"oldData\") \\\n",
    "  .merge(\\\n",
    "    df.alias(\"newData\"),\\\n",
    "    \"oldData.comicID = newData.comicID\") \\\n",
    "  .whenMatchedUpdateAll()\\\n",
    "  .whenNotMatchedInsertAll()\\\n",
    "  .execute()"
   ]
  },
  {
   "cell_type": "markdown",
   "id": "edd8ac86-6ae8-46dd-9f86-0f238792e0f2",
   "metadata": {},
   "source": [
    "#### Export schema do dataframe"
   ]
  },
  {
   "cell_type": "code",
   "execution_count": null,
   "id": "6696f947-cd7b-49dc-8de5-ede4a1fdc022",
   "metadata": {},
   "outputs": [],
   "source": [
    "print(df.schema.json())"
   ]
  },
  {
   "cell_type": "code",
   "execution_count": null,
   "id": "98a1f5e0-c8d2-407e-9b23-d1d460960de5",
   "metadata": {},
   "outputs": [],
   "source": []
  }
 ],
 "metadata": {
  "kernelspec": {
   "display_name": "PySpark",
   "language": "python",
   "name": "pysparkkernel"
  },
  "language_info": {
   "codemirror_mode": {
    "name": "python",
    "version": 3
   },
   "file_extension": ".py",
   "mimetype": "text/x-python",
   "name": "pyspark",
   "pygments_lexer": "python3"
  }
 },
 "nbformat": 4,
 "nbformat_minor": 5
}
