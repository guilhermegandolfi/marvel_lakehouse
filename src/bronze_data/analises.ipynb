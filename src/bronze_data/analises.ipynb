{
 "cells": [
  {
   "cell_type": "markdown",
   "id": "4c43d8ff-d284-47ac-93e0-e511ddbc0fd5",
   "metadata": {},
   "source": [
    "### Este notebook é utilizado para o desenvolvimento do script pyspark da camada gold"
   ]
  },
  {
   "cell_type": "code",
   "execution_count": 92,
   "id": "942306af-b9b9-4a06-b9f0-a4549fbd963a",
   "metadata": {},
   "outputs": [],
   "source": [
    "from pyspark.sql import SparkSession\n",
    "from pyspark.sql.types import *\n",
    "import json\n",
    "from pyspark.sql import types"
   ]
  },
  {
   "cell_type": "code",
   "execution_count": 35,
   "id": "ec08c9a7-bec3-48c5-86c1-1e325c91d7eb",
   "metadata": {},
   "outputs": [],
   "source": [
    "spark = SparkSession.builder.appName('dev').getOrCreate()"
   ]
  },
  {
   "cell_type": "code",
   "execution_count": 36,
   "id": "2fd064da-eaef-40d9-9677-90de8c0abb27",
   "metadata": {},
   "outputs": [
    {
     "data": {
      "text/html": [
       "\n",
       "            <div>\n",
       "                <p><b>SparkSession - in-memory</b></p>\n",
       "                \n",
       "        <div>\n",
       "            <p><b>SparkContext</b></p>\n",
       "\n",
       "            <p><a href=\"http://c5b63a30eed0:4040\">Spark UI</a></p>\n",
       "\n",
       "            <dl>\n",
       "              <dt>Version</dt>\n",
       "                <dd><code>v3.3.1</code></dd>\n",
       "              <dt>Master</dt>\n",
       "                <dd><code>local[*]</code></dd>\n",
       "              <dt>AppName</dt>\n",
       "                <dd><code>dev</code></dd>\n",
       "            </dl>\n",
       "        </div>\n",
       "        \n",
       "            </div>\n",
       "        "
      ],
      "text/plain": [
       "<pyspark.sql.session.SparkSession at 0x7f753d479780>"
      ]
     },
     "execution_count": 36,
     "metadata": {},
     "output_type": "execute_result"
    }
   ],
   "source": [
    "spark"
   ]
  },
  {
   "cell_type": "markdown",
   "id": "db2f8071-0d42-4581-9422-a1ed98f9580b",
   "metadata": {},
   "source": [
    "### Load dos arquivos raw data local para ingestao em delta tables"
   ]
  },
  {
   "cell_type": "code",
   "execution_count": 37,
   "id": "12d7f3cd-bb79-4c21-802c-c8c68c0475ec",
   "metadata": {},
   "outputs": [
    {
     "name": "stdout",
     "output_type": "stream",
     "text": [
      "characters.csv\n",
      "characters_To_Comics.csv\n",
      "charcters_stats.csv\n",
      "comics.csv\n",
      "marvel_characters_info.csv\n",
      "marvel_dc_characters.csv\n",
      "marvel_dc_characters.xlsx\n",
      "superheroes_power_matrix.csv\n"
     ]
    }
   ],
   "source": [
    "%%sh\n",
    "ls ../../data_set"
   ]
  },
  {
   "cell_type": "markdown",
   "id": "8fba5e6b-c335-4c64-ab91-6ef394a73d46",
   "metadata": {},
   "source": [
    "### Load Characters"
   ]
  },
  {
   "cell_type": "code",
   "execution_count": 93,
   "id": "df468664-7b81-4e7a-a6f3-1cb6d2704c63",
   "metadata": {},
   "outputs": [],
   "source": [
    "nam_path='..//..//data_set'\n",
    "nam_file='characters.csv'\n",
    "bol_header=True\n",
    "json_path='schemas/characters.json'"
   ]
  },
  {
   "cell_type": "code",
   "execution_count": 105,
   "id": "4fa85f94-7b62-4fb8-9880-7c2cba8a781b",
   "metadata": {},
   "outputs": [],
   "source": [
    "f = open(json_path)\n",
    "data = json.load(f)"
   ]
  },
  {
   "cell_type": "code",
   "execution_count": 98,
   "id": "a4d7581a-a789-4980-b0ad-97815f7dd9cb",
   "metadata": {},
   "outputs": [],
   "source": [
    "schema = StructType([ \\\n",
    "    StructField(\"characterID\",IntegerType(),True), \\\n",
    "    StructField(\"name\",StringType(),True),\n",
    "  ])"
   ]
  },
  {
   "cell_type": "code",
   "execution_count": 106,
   "id": "18f2ae8f-ba55-4851-b0c4-ee5b2867a4d6",
   "metadata": {},
   "outputs": [],
   "source": [
    "schemaFromJson = StructType.fromJson(data)"
   ]
  },
  {
   "cell_type": "code",
   "execution_count": 107,
   "id": "c71d3e1d-3c86-4f5a-acf0-dad6dbda5572",
   "metadata": {},
   "outputs": [],
   "source": [
    "df=spark.read.csv(f'{nam_path}/{nam_file}', header=bol_header, schema=schemaFromJson)"
   ]
  },
  {
   "cell_type": "code",
   "execution_count": 109,
   "id": "be80f9cb-8b36-4fdb-9c48-2974dd2690d5",
   "metadata": {},
   "outputs": [
    {
     "name": "stdout",
     "output_type": "stream",
     "text": [
      "+-----------+--------------------+\n",
      "|characterID|                name|\n",
      "+-----------+--------------------+\n",
      "|    1009220|     Captain America|\n",
      "|    1010740|      Winter Soldier|\n",
      "|    1009471|           Nick Fury|\n",
      "|    1009552|        S.H.I.E.L.D.|\n",
      "|    1009228|       Sharon Carter|\n",
      "|    1011109|    X-Men (Ultimate)|\n",
      "|    1010808|Hawkeye (Kate Bis...|\n",
      "|    1009515|            Punisher|\n",
      "|    1009252|          Crossbones|\n",
      "|    1009535|           Red Skull|\n",
      "+-----------+--------------------+\n",
      "only showing top 10 rows\n",
      "\n"
     ]
    }
   ],
   "source": [
    "df.show(10)"
   ]
  },
  {
   "cell_type": "code",
   "execution_count": 110,
   "id": "2597385c-e5ec-46ad-8ded-fccfa2af090a",
   "metadata": {},
   "outputs": [
    {
     "name": "stdout",
     "output_type": "stream",
     "text": [
      "{\"fields\":[{\"metadata\":{},\"name\":\"characterID\",\"nullable\":true,\"type\":\"integer\"},{\"metadata\":{},\"name\":\"name\",\"nullable\":true,\"type\":\"string\"}],\"type\":\"struct\"}\n"
     ]
    }
   ],
   "source": [
    "print(df.schema.json())"
   ]
  },
  {
   "cell_type": "code",
   "execution_count": 50,
   "id": "1311a55a-9a66-44ea-b17a-d0bc9e04072f",
   "metadata": {},
   "outputs": [
    {
     "data": {
      "text/plain": [
       "'{\"fields\":[{\"metadata\":{},\"name\":\"characterID\",\"nullable\":true,\"type\":\"integer\"},{\"metadata\":{},\"name\":\"name\",\"nullable\":true,\"type\":\"string\"}],\"type\":\"struct\"}'"
      ]
     },
     "execution_count": 50,
     "metadata": {},
     "output_type": "execute_result"
    }
   ],
   "source": []
  },
  {
   "cell_type": "markdown",
   "id": "15bc584a-de50-43a1-8e21-0aeb3612f64e",
   "metadata": {},
   "source": [
    "Writing files in delta tables"
   ]
  },
  {
   "cell_type": "code",
   "execution_count": null,
   "id": "1a8a5741-c1cf-4cc4-a11d-d154109065bc",
   "metadata": {},
   "outputs": [],
   "source": []
  }
 ],
 "metadata": {
  "kernelspec": {
   "display_name": "Python 3 (ipykernel)",
   "language": "python",
   "name": "python3"
  },
  "language_info": {
   "codemirror_mode": {
    "name": "ipython",
    "version": 3
   },
   "file_extension": ".py",
   "mimetype": "text/x-python",
   "name": "python",
   "nbconvert_exporter": "python",
   "pygments_lexer": "ipython3",
   "version": "3.10.8"
  }
 },
 "nbformat": 4,
 "nbformat_minor": 5
}
